{
 "cells": [
  {
   "cell_type": "markdown",
   "metadata": {},
   "source": [
    "# I&E Study 7.1 Automated Stakeholder Analysis for Hedera\n",
    "\n",
    "\n",
    "In this Notebook we will demonstrate how to scrape, clean, analyse and visualise data from different resources to do stakeholder analysis for Hedera."
   ]
  },
  {
   "cell_type": "markdown",
   "metadata": {},
   "source": [
    "## Scraping\n",
    "\n",
    "First we will gather data from the website https://seepnetwork.org. More specifically we will collect the data of the members of the seepnetwork.\n",
    "\n",
    "For this we will define a method that will do the download, or if we already have the file in our local folder we just load it from there to reduce network traffic towards there website."
   ]
  },
  {
   "cell_type": "code",
   "execution_count": 1,
   "metadata": {},
   "outputs": [],
   "source": [
    "import requests\n",
    "import os\n",
    "from pathlib import Path\n",
    "\n",
    "def load_page(name, path):\n",
    "    \n",
    "    displayname = name.replace('https://', '')\n",
    "    full_path = path+displayname\n",
    "    \n",
    "    content = \"\"\n",
    "    \n",
    "    try:\n",
    "        with open(full_path, 'r', encoding='utf-8') as f:\n",
    "            content = f.read().replace(\"\\n\", \"\").replace(\"\\t\", \"\")\n",
    "    except (OSError, IOError) as e:\n",
    "        response = requests.get(name)\n",
    "        directory = os.path.dirname(full_path)\n",
    "        Path(directory).mkdir(parents=True, exist_ok=True)\n",
    "        open(full_path, 'wb').write(response.content)\n",
    "        content = response.content\n",
    "        \n",
    "    return content \n"
   ]
  },
  {
   "cell_type": "markdown",
   "metadata": {},
   "source": [
    "First we will scrape the main page."
   ]
  },
  {
   "cell_type": "code",
   "execution_count": 2,
   "metadata": {},
   "outputs": [],
   "source": [
    "file_dir = \"webpages/\"\n",
    "parent_page = \"https://seepnetwork.org\"\n",
    "main_content = load_page(parent_page + \"/Profiles\", file_dir)"
   ]
  },
  {
   "cell_type": "markdown",
   "metadata": {},
   "source": [
    "Next we will get all of the links to the individual member profile pages. Therefor we select all of the elements and extract the href field."
   ]
  },
  {
   "cell_type": "code",
   "execution_count": 3,
   "metadata": {},
   "outputs": [
    {
     "name": "stdout",
     "output_type": "stream",
     "text": [
      "94\n"
     ]
    }
   ],
   "source": [
    "from bs4 import BeautifulSoup\n",
    "\n",
    "bs = BeautifulSoup(main_content)\n",
    "\n",
    "sub_links = []\n",
    "for link in bs.select(\".mapListViewItem .button.border.blue a\"):\n",
    "    sub_links.append(link[\"href\"])\n",
    "    \n",
    "print(len(sub_links))"
   ]
  },
  {
   "cell_type": "markdown",
   "metadata": {},
   "source": [
    "^ Number of memebers found.\n",
    "\n",
    "To get the members data we download the profile pages and parse the needed fields into an array for further processing."
   ]
  },
  {
   "cell_type": "code",
   "execution_count": 4,
   "metadata": {},
   "outputs": [],
   "source": [
    "import pandas as pd\n",
    "\n",
    "data = []\n",
    "\n",
    "for link in sub_links:\n",
    "    content = load_page(parent_page+link, file_dir)\n",
    "    bs = BeautifulSoup(content)\n",
    "    parts = bs.select(\".sidebar.left\")\n",
    "    \n",
    "    name = parts[0].select_one(\"h3\").string.strip()\n",
    "#     years_of_membership = parts[0].select_one(\".sidebarRight > p\").string[0]\n",
    "    location = parts[0].select_one(\".sidebarRight .twoColLeft > p\").contents[-1].strip()\n",
    "    website = parts[0].select_one(\".sidebarRight .twoColRight a\")['href'].strip()\n",
    "    org_type = parts[0].select_one(\".sidebarRight .twoColRight > p\").contents[-1].strip()\n",
    "    mission_statement = parts[1].select(\".sidebarRight > p\")[0].contents[-1].strip()\n",
    "    countries_of_involvement = parts[1].select(\".sidebarRight > p\")[1].contents[-1].strip()\n",
    "    practice_areas = parts[1].select(\".sidebarRight > p\")[2].contents[-1].strip()\n",
    "    \n",
    "    data.append([name, location, website, org_type, mission_statement, countries_of_involvement, practice_areas])"
   ]
  },
  {
   "cell_type": "code",
   "execution_count": 5,
   "metadata": {},
   "outputs": [
    {
     "data": {
      "text/plain": [
       "[['Access to Finance Rwanda',\n",
       "  'Rwanda',\n",
       "  'http://www.afr.rw/',\n",
       "  'Development Organization',\n",
       "  'Low income Rwandans, especially women and youth, benefit from use of a variety of appropriate financial services',\n",
       "  'Rwanda',\n",
       "  'Fragile & Conflict-affected Environments, Gender Equality, Health, Housing'],\n",
       " ['AEMFI - Association of Ethiopian Microfinance Institutions',\n",
       "  'Ethiopia',\n",
       "  'http://www.aemfi-ethiopia.org/',\n",
       "  'National, Regional, Global Network',\n",
       "  'To enhance the capacity of microfinance institutions and financial cooperatives to deliver financials services to urban and rural households through technical assistance, human capital development, knowledge management, research, networking and advocating and promoting the industry with mutual cooperation from its members, practitioners and key stakeholders.',\n",
       "  'Ethiopia',\n",
       "  'Education; Environment & Climate; Financial Consumer Protection; Financial Inclusion; Housing; Livelihoods; MSME Development; Rural & Agricultural Development; Savings-Led Community Finance; Urban Development'],\n",
       " ['Aga Khan Foundation USA',\n",
       "  'United States',\n",
       "  'https://www.akfusa.org/',\n",
       "  'Development Organization',\n",
       "  'Promote social development, primarily in low income countries.',\n",
       "  'Afghanistan; Bangladesh; India; Kenya; Kyrgyzstan; Madagascar; Mali; Mozambique; Pakistan; Tajikistan; Tanzania',\n",
       "  'Education; Financial Consumer Protection; Food Security & Nutrition; Gender Equality; Rural & Agricultural Development; Urban Development; WASH (Water, Sanitation, & Hygiene); Youth & Children'],\n",
       " ['AMA - Afghanistan Microfinance Association',\n",
       "  'Afghanistan',\n",
       "  'http://www.ama.org.af/',\n",
       "  'National, Regional, Global Network',\n",
       "  'To build an inclusive, sustainable and responsible development finance sector through policy advocacy, knowledge management, coordination & networking, and capacity building.',\n",
       "  'Afghanistan',\n",
       "  'Financial Inclusion'],\n",
       " ['AMFA - Azerbaijan Micro-Finance Association',\n",
       "  'Azerbaijan',\n",
       "  'http://www.amfa.az/',\n",
       "  'National, Regional, Global Network',\n",
       "  'To strengthen the capacity of micro-finance institutions and to promote effective collective action in advancing the interests of the micro-finance community and its clients.',\n",
       "  'Azerbaijan',\n",
       "  'Financial Consumer Protection; Financial Inclusion; Gender Equality; MSME Development'],\n",
       " ['AMFI Kenya',\n",
       "  'Kenya',\n",
       "  'www.amfi-kenya.com',\n",
       "  'National, Regional, Global Network',\n",
       "  'To champion the aspirations of microfinance institutions through advocacy, capacity building, linkages and research.',\n",
       "  'Kenya',\n",
       "  'Financial Consumer Protection, Financial Inclusion, Housing, Livelihoods, Market Systems Development, MSME Development, Rural & Agricultural Development, Savings-Led Community Finance, WASH (Water, Sanitation, & Hygiene)'],\n",
       " ['AMFIU - Association of Microfinance Institutions of Uganda',\n",
       "  'Uganda',\n",
       "  'http://www.amfiu.org.ug',\n",
       "  'National, Regional, Global Network',\n",
       "  'To promote a professional, inclusive and responsive microfinance industry that contributes to transformation of livelihoods of Ugandans.',\n",
       "  'Uganda',\n",
       "  'Financial Consumer Protection; Financial Inclusion; Rural and Agricultural Development'],\n",
       " ['AMIR - Association of Micro Finance Institutions in Rwanda',\n",
       "  'Rwanda',\n",
       "  'http://www.amir.org.rw',\n",
       "  'National, Regional, Global Network',\n",
       "  'The mission of AMIR is to offer diversified services to microfinance institutions to enable them to work professionally and contribute to poverty reduction in a sustainable manner.',\n",
       "  'Rwanda',\n",
       "  'Education, Financial Consumer Protection, Financial Inclusion, Savings-Led Community Finance'],\n",
       " ['APIM Madagascar - Association Professionnelle des Institutions de Microfinance',\n",
       "  'Madagascar',\n",
       "  'http://www.apimfmada.mg/',\n",
       "  'National, Regional, Global Network',\n",
       "  \"Favoriser l'inclusion financière ou l'accès aux services financiers; encourager la coopération entre les institutions de microfinance; assurer la représentation et la défense des intérêts collectifs des institutions de microfinance notamment auprès des pouvoirs publics\",\n",
       "  'Madagascar',\n",
       "  'Education; Financial Consumer Protection; Financial Inclusion; Gender Equality; Livelihoods; Market Systems Development; MSME Development; Rural and Agricultural Development; Savings-led Community Finance; Youth & Children'],\n",
       " ['APSFD-BF - Association Professionnelle des Systèmes Financiers Décentralisés du Burkina Faso',\n",
       "  'Burkina Faso',\n",
       "  'http://www.apsfd-burkina.bf/',\n",
       "  'National, Regional, Global Network',\n",
       "  \"The Professional Association of Decentralized Financial Systems of Burkina Faso (APSFD-BF)'s mission is to defend the material and moral interests of the profession and to reinforce the capacities of its members by offering quality services adapted to their needs.\",\n",
       "  'Burkina Faso',\n",
       "  'Disaster Risk Reduction, Financial Consumer Protection, Financial Inclusion, Gender Equality, Rural & Agricultural Development, Savings-Led Community Finance, Youth & Finance']]"
      ]
     },
     "execution_count": 5,
     "metadata": {},
     "output_type": "execute_result"
    }
   ],
   "source": [
    "data[:10]"
   ]
  },
  {
   "cell_type": "markdown",
   "metadata": {},
   "source": [
    "Finally we write the parsed information into a csv file which can later be used as an input for the machine learning algorithms."
   ]
  },
  {
   "cell_type": "code",
   "execution_count": 6,
   "metadata": {},
   "outputs": [],
   "source": [
    "import csv\n",
    "wtr = csv.writer(open ('member_data.csv', 'w', encoding='utf-8'), delimiter=',', lineterminator='\\n')\n",
    "for member in data :\n",
    "    wtr.writerow (member)"
   ]
  },
  {
   "cell_type": "markdown",
   "metadata": {},
   "source": [
    "## Analyzing the data\n"
   ]
  },
  {
   "cell_type": "code",
   "execution_count": 7,
   "metadata": {},
   "outputs": [],
   "source": [
    "df = pd.read_csv('member_data.csv', header=None, names=[\"name\", \"location\", \"website\", \"org_type\", \"mission_statement\", \"countries_of_involvement\", \"practice_areas\"])"
   ]
  },
  {
   "cell_type": "code",
   "execution_count": 8,
   "metadata": {},
   "outputs": [
    {
     "data": {
      "text/html": [
       "<div>\n",
       "<style scoped>\n",
       "    .dataframe tbody tr th:only-of-type {\n",
       "        vertical-align: middle;\n",
       "    }\n",
       "\n",
       "    .dataframe tbody tr th {\n",
       "        vertical-align: top;\n",
       "    }\n",
       "\n",
       "    .dataframe thead th {\n",
       "        text-align: right;\n",
       "    }\n",
       "</style>\n",
       "<table border=\"1\" class=\"dataframe\">\n",
       "  <thead>\n",
       "    <tr style=\"text-align: right;\">\n",
       "      <th></th>\n",
       "      <th>name</th>\n",
       "      <th>location</th>\n",
       "      <th>website</th>\n",
       "      <th>org_type</th>\n",
       "      <th>mission_statement</th>\n",
       "      <th>countries_of_involvement</th>\n",
       "      <th>practice_areas</th>\n",
       "    </tr>\n",
       "  </thead>\n",
       "  <tbody>\n",
       "    <tr>\n",
       "      <th>0</th>\n",
       "      <td>Access to Finance Rwanda</td>\n",
       "      <td>Rwanda</td>\n",
       "      <td>http://www.afr.rw/</td>\n",
       "      <td>Development Organization</td>\n",
       "      <td>Low income Rwandans, especially women and youth, benefit from use of a variety of appropriate financial services</td>\n",
       "      <td>Rwanda</td>\n",
       "      <td>Fragile &amp; Conflict-affected Environments, Gender Equality, Health, Housing</td>\n",
       "    </tr>\n",
       "    <tr>\n",
       "      <th>1</th>\n",
       "      <td>AEMFI - Association of Ethiopian Microfinance Institutions</td>\n",
       "      <td>Ethiopia</td>\n",
       "      <td>http://www.aemfi-ethiopia.org/</td>\n",
       "      <td>National, Regional, Global Network</td>\n",
       "      <td>To enhance the capacity of microfinance institutions and financial cooperatives to deliver financials services to urban and rural households through technical assistance, human capital development...</td>\n",
       "      <td>Ethiopia</td>\n",
       "      <td>Education; Environment &amp; Climate; Financial Consumer Protection; Financial Inclusion; Housing; Livelihoods; MSME Development; Rural &amp; Agricultural Development; Savings-Led Community Finance; Urban...</td>\n",
       "    </tr>\n",
       "    <tr>\n",
       "      <th>2</th>\n",
       "      <td>Aga Khan Foundation USA</td>\n",
       "      <td>United States</td>\n",
       "      <td>https://www.akfusa.org/</td>\n",
       "      <td>Development Organization</td>\n",
       "      <td>Promote social development, primarily in low income countries.</td>\n",
       "      <td>Afghanistan; Bangladesh; India; Kenya; Kyrgyzstan; Madagascar; Mali; Mozambique; Pakistan; Tajikistan; Tanzania</td>\n",
       "      <td>Education; Financial Consumer Protection; Food Security &amp; Nutrition; Gender Equality; Rural &amp; Agricultural Development; Urban Development; WASH (Water, Sanitation, &amp; Hygiene); Youth &amp; Children</td>\n",
       "    </tr>\n",
       "    <tr>\n",
       "      <th>3</th>\n",
       "      <td>AMA - Afghanistan Microfinance Association</td>\n",
       "      <td>Afghanistan</td>\n",
       "      <td>http://www.ama.org.af/</td>\n",
       "      <td>National, Regional, Global Network</td>\n",
       "      <td>To build an inclusive, sustainable and responsible development finance sector through policy advocacy, knowledge management, coordination &amp; networking, and capacity building.</td>\n",
       "      <td>Afghanistan</td>\n",
       "      <td>Financial Inclusion</td>\n",
       "    </tr>\n",
       "    <tr>\n",
       "      <th>4</th>\n",
       "      <td>AMFA - Azerbaijan Micro-Finance Association</td>\n",
       "      <td>Azerbaijan</td>\n",
       "      <td>http://www.amfa.az/</td>\n",
       "      <td>National, Regional, Global Network</td>\n",
       "      <td>To strengthen the capacity of micro-finance institutions and to promote effective collective action in advancing the interests of the micro-finance community and its clients.</td>\n",
       "      <td>Azerbaijan</td>\n",
       "      <td>Financial Consumer Protection; Financial Inclusion; Gender Equality; MSME Development</td>\n",
       "    </tr>\n",
       "    <tr>\n",
       "      <th>5</th>\n",
       "      <td>AMFI Kenya</td>\n",
       "      <td>Kenya</td>\n",
       "      <td>www.amfi-kenya.com</td>\n",
       "      <td>National, Regional, Global Network</td>\n",
       "      <td>To champion the aspirations of microfinance institutions through advocacy, capacity building, linkages and research.</td>\n",
       "      <td>Kenya</td>\n",
       "      <td>Financial Consumer Protection, Financial Inclusion, Housing, Livelihoods, Market Systems Development, MSME Development, Rural &amp; Agricultural Development, Savings-Led Community Finance, WASH (Water...</td>\n",
       "    </tr>\n",
       "    <tr>\n",
       "      <th>6</th>\n",
       "      <td>AMFIU - Association of Microfinance Institutions of Uganda</td>\n",
       "      <td>Uganda</td>\n",
       "      <td>http://www.amfiu.org.ug</td>\n",
       "      <td>National, Regional, Global Network</td>\n",
       "      <td>To promote a professional, inclusive and responsive microfinance industry that contributes to transformation of livelihoods of Ugandans.</td>\n",
       "      <td>Uganda</td>\n",
       "      <td>Financial Consumer Protection; Financial Inclusion; Rural and Agricultural Development</td>\n",
       "    </tr>\n",
       "    <tr>\n",
       "      <th>7</th>\n",
       "      <td>AMIR - Association of Micro Finance Institutions in Rwanda</td>\n",
       "      <td>Rwanda</td>\n",
       "      <td>http://www.amir.org.rw</td>\n",
       "      <td>National, Regional, Global Network</td>\n",
       "      <td>The mission of AMIR is to offer diversified services to microfinance institutions to enable them to work professionally and contribute to poverty reduction in a sustainable manner.</td>\n",
       "      <td>Rwanda</td>\n",
       "      <td>Education, Financial Consumer Protection, Financial Inclusion, Savings-Led Community Finance</td>\n",
       "    </tr>\n",
       "    <tr>\n",
       "      <th>8</th>\n",
       "      <td>APIM Madagascar - Association Professionnelle des Institutions de Microfinance</td>\n",
       "      <td>Madagascar</td>\n",
       "      <td>http://www.apimfmada.mg/</td>\n",
       "      <td>National, Regional, Global Network</td>\n",
       "      <td>Favoriser l'inclusion financière ou l'accès aux services financiers; encourager la coopération entre les institutions de microfinance; assurer la représentation et la défense des intérêts collecti...</td>\n",
       "      <td>Madagascar</td>\n",
       "      <td>Education; Financial Consumer Protection; Financial Inclusion; Gender Equality; Livelihoods; Market Systems Development; MSME Development; Rural and Agricultural Development; Savings-led Community...</td>\n",
       "    </tr>\n",
       "    <tr>\n",
       "      <th>9</th>\n",
       "      <td>APSFD-BF - Association Professionnelle des Systèmes Financiers Décentralisés du Burkina Faso</td>\n",
       "      <td>Burkina Faso</td>\n",
       "      <td>http://www.apsfd-burkina.bf/</td>\n",
       "      <td>National, Regional, Global Network</td>\n",
       "      <td>The Professional Association of Decentralized Financial Systems of Burkina Faso (APSFD-BF)'s mission is to defend the material and moral interests of the profession and to reinforce the capacities...</td>\n",
       "      <td>Burkina Faso</td>\n",
       "      <td>Disaster Risk Reduction, Financial Consumer Protection, Financial Inclusion, Gender Equality, Rural &amp; Agricultural Development, Savings-Led Community Finance, Youth &amp; Finance</td>\n",
       "    </tr>\n",
       "  </tbody>\n",
       "</table>\n",
       "</div>"
      ],
      "text/plain": [
       "                                                                                           name  \\\n",
       "0                                                                      Access to Finance Rwanda   \n",
       "1                                    AEMFI - Association of Ethiopian Microfinance Institutions   \n",
       "2                                                                       Aga Khan Foundation USA   \n",
       "3                                                    AMA - Afghanistan Microfinance Association   \n",
       "4                                                   AMFA - Azerbaijan Micro-Finance Association   \n",
       "5                                                                                    AMFI Kenya   \n",
       "6                                    AMFIU - Association of Microfinance Institutions of Uganda   \n",
       "7                                    AMIR - Association of Micro Finance Institutions in Rwanda   \n",
       "8                APIM Madagascar - Association Professionnelle des Institutions de Microfinance   \n",
       "9  APSFD-BF - Association Professionnelle des Systèmes Financiers Décentralisés du Burkina Faso   \n",
       "\n",
       "        location                         website  \\\n",
       "0         Rwanda              http://www.afr.rw/   \n",
       "1       Ethiopia  http://www.aemfi-ethiopia.org/   \n",
       "2  United States         https://www.akfusa.org/   \n",
       "3    Afghanistan          http://www.ama.org.af/   \n",
       "4     Azerbaijan             http://www.amfa.az/   \n",
       "5          Kenya              www.amfi-kenya.com   \n",
       "6         Uganda         http://www.amfiu.org.ug   \n",
       "7         Rwanda          http://www.amir.org.rw   \n",
       "8     Madagascar        http://www.apimfmada.mg/   \n",
       "9   Burkina Faso    http://www.apsfd-burkina.bf/   \n",
       "\n",
       "                             org_type  \\\n",
       "0            Development Organization   \n",
       "1  National, Regional, Global Network   \n",
       "2            Development Organization   \n",
       "3  National, Regional, Global Network   \n",
       "4  National, Regional, Global Network   \n",
       "5  National, Regional, Global Network   \n",
       "6  National, Regional, Global Network   \n",
       "7  National, Regional, Global Network   \n",
       "8  National, Regional, Global Network   \n",
       "9  National, Regional, Global Network   \n",
       "\n",
       "                                                                                                                                                                                         mission_statement  \\\n",
       "0                                                                                         Low income Rwandans, especially women and youth, benefit from use of a variety of appropriate financial services   \n",
       "1  To enhance the capacity of microfinance institutions and financial cooperatives to deliver financials services to urban and rural households through technical assistance, human capital development...   \n",
       "2                                                                                                                                           Promote social development, primarily in low income countries.   \n",
       "3                           To build an inclusive, sustainable and responsible development finance sector through policy advocacy, knowledge management, coordination & networking, and capacity building.   \n",
       "4                           To strengthen the capacity of micro-finance institutions and to promote effective collective action in advancing the interests of the micro-finance community and its clients.   \n",
       "5                                                                                     To champion the aspirations of microfinance institutions through advocacy, capacity building, linkages and research.   \n",
       "6                                                                 To promote a professional, inclusive and responsive microfinance industry that contributes to transformation of livelihoods of Ugandans.   \n",
       "7                     The mission of AMIR is to offer diversified services to microfinance institutions to enable them to work professionally and contribute to poverty reduction in a sustainable manner.   \n",
       "8  Favoriser l'inclusion financière ou l'accès aux services financiers; encourager la coopération entre les institutions de microfinance; assurer la représentation et la défense des intérêts collecti...   \n",
       "9  The Professional Association of Decentralized Financial Systems of Burkina Faso (APSFD-BF)'s mission is to defend the material and moral interests of the profession and to reinforce the capacities...   \n",
       "\n",
       "                                                                                          countries_of_involvement  \\\n",
       "0                                                                                                           Rwanda   \n",
       "1                                                                                                         Ethiopia   \n",
       "2  Afghanistan; Bangladesh; India; Kenya; Kyrgyzstan; Madagascar; Mali; Mozambique; Pakistan; Tajikistan; Tanzania   \n",
       "3                                                                                                      Afghanistan   \n",
       "4                                                                                                       Azerbaijan   \n",
       "5                                                                                                            Kenya   \n",
       "6                                                                                                           Uganda   \n",
       "7                                                                                                           Rwanda   \n",
       "8                                                                                                       Madagascar   \n",
       "9                                                                                                     Burkina Faso   \n",
       "\n",
       "                                                                                                                                                                                            practice_areas  \n",
       "0                                                                                                                               Fragile & Conflict-affected Environments, Gender Equality, Health, Housing  \n",
       "1  Education; Environment & Climate; Financial Consumer Protection; Financial Inclusion; Housing; Livelihoods; MSME Development; Rural & Agricultural Development; Savings-Led Community Finance; Urban...  \n",
       "2         Education; Financial Consumer Protection; Food Security & Nutrition; Gender Equality; Rural & Agricultural Development; Urban Development; WASH (Water, Sanitation, & Hygiene); Youth & Children  \n",
       "3                                                                                                                                                                                      Financial Inclusion  \n",
       "4                                                                                                                    Financial Consumer Protection; Financial Inclusion; Gender Equality; MSME Development  \n",
       "5  Financial Consumer Protection, Financial Inclusion, Housing, Livelihoods, Market Systems Development, MSME Development, Rural & Agricultural Development, Savings-Led Community Finance, WASH (Water...  \n",
       "6                                                                                                                   Financial Consumer Protection; Financial Inclusion; Rural and Agricultural Development  \n",
       "7                                                                                                             Education, Financial Consumer Protection, Financial Inclusion, Savings-Led Community Finance  \n",
       "8  Education; Financial Consumer Protection; Financial Inclusion; Gender Equality; Livelihoods; Market Systems Development; MSME Development; Rural and Agricultural Development; Savings-led Community...  \n",
       "9                           Disaster Risk Reduction, Financial Consumer Protection, Financial Inclusion, Gender Equality, Rural & Agricultural Development, Savings-Led Community Finance, Youth & Finance  "
      ]
     },
     "execution_count": 8,
     "metadata": {},
     "output_type": "execute_result"
    }
   ],
   "source": [
    "pd.set_option('display.max_colwidth',200)\n",
    "df.head(10)"
   ]
  },
  {
   "cell_type": "code",
   "execution_count": 9,
   "metadata": {},
   "outputs": [
    {
     "data": {
      "text/plain": [
       "0                                                                                             low income rwandans especially women and youth benefit from use of a variety of appropriate financial services\n",
       "1    to enhance the capacity of microfinance institutions and financial cooperatives to deliver financials services to urban and rural households through technical assistance human capital development ...\n",
       "2                                                                                                                                               promote social development primarily in low income countries\n",
       "3                                  to build an inclusive sustainable and responsible development finance sector through policy advocacy knowledge management coordination & networking and capacity building\n",
       "4                              to strengthen the capacity of micro-finance institutions and to promote effective collective action in advancing the interests of the micro-finance community and its clients\n",
       "Name: text_processed, dtype: object"
      ]
     },
     "execution_count": 9,
     "metadata": {},
     "output_type": "execute_result"
    }
   ],
   "source": [
    "# Load the regular expression library\n",
    "import re\n",
    "# Remove punctuation\n",
    "df['text_processed'] = df[\"mission_statement\"].map(lambda x: re.sub('[,\\.!?]', '', x))\n",
    "# Convert the titles to lowercase\n",
    "df['text_processed'] = df['text_processed'].map(lambda x: x.lower())\n",
    "# Print out the first rows of papers\n",
    "df['text_processed'].head()\n"
   ]
  },
  {
   "cell_type": "code",
   "execution_count": 10,
   "metadata": {},
   "outputs": [
    {
     "data": {
      "image/png": "[encoded data removed]",
      "text/plain": [
       "<PIL.Image.Image image mode=RGB size=400x200 at 0x1A8C17BEC10>"
      ]
     },
     "execution_count": 10,
     "metadata": {},
     "output_type": "execute_result"
    }
   ],
   "source": [
    "# Import the wordcloud library\n",
    "from wordcloud import WordCloud\n",
    "# Join the different processed titles together.\n",
    "long_string = ','.join(list(df['text_processed'].values))\n",
    "# Create a WordCloud object\n",
    "wordcloud = WordCloud(background_color=\"white\", max_words=5000, contour_width=3, contour_color='steelblue')\n",
    "# Generate a word cloud\n",
    "wordcloud.generate(long_string)\n",
    "# Visualize the word cloud\n",
    "wordcloud.to_image()"
   ]
  },
  {
   "cell_type": "code",
   "execution_count": 11,
   "metadata": {},
   "outputs": [
    {
     "name": "stdout",
     "output_type": "stream",
     "text": [
      "['poverty', 'people', 'services', 'communities', 'financial', 'mission', 'development', 'economic', 'microfinance', 'research']\n"
     ]
    },
    {
     "name": "stderr",
     "output_type": "stream",
     "text": [
      "D:\\soft\\Anaconda3\\lib\\site-packages\\seaborn\\_decorators.py:36: FutureWarning: Pass the following variables as keyword args: x, y. From version 0.12, the only valid positional argument will be `data`, and passing other arguments without an explicit keyword will result in an error or misinterpretation.\n",
      "  warnings.warn(\n"
     ]
    },
    {
     "data": {
      "image/png": "[encoded data removed]",
      "text/plain": [
       "<Figure size 1080x667.491 with 1 Axes>"
      ]
     },
     "metadata": {
      "needs_background": "light"
     },
     "output_type": "display_data"
    }
   ],
   "source": [
    "# Load the library with the CountVectorizer method\n",
    "from sklearn.feature_extraction.text import CountVectorizer\n",
    "import numpy as np\n",
    "import matplotlib.pyplot as plt\n",
    "import seaborn as sns\n",
    "sns.set_style('whitegrid')\n",
    "%matplotlib inline\n",
    "# Helper function\n",
    "def plot_10_most_common_words(count_data, count_vectorizer):\n",
    "    import matplotlib.pyplot as plt\n",
    "    words = count_vectorizer.get_feature_names()\n",
    "    total_counts = np.zeros(len(words))\n",
    "    for t in count_data:\n",
    "        total_counts+=t.toarray()[0]\n",
    "    \n",
    "    count_dict = (zip(words, total_counts))\n",
    "    count_dict = sorted(count_dict, key=lambda x:x[1], reverse=True)[:10]\n",
    "    words = [w[0] for w in count_dict]\n",
    "    counts = [w[1] for w in count_dict]\n",
    "    x_pos = np.arange(len(words)) \n",
    "    \n",
    "    print(words)\n",
    "    \n",
    "    plt.figure(2, figsize=(15, 15/1.6180))\n",
    "    plt.subplot(title='10 most common words')\n",
    "    sns.set_context(\"notebook\", font_scale=1.25, rc={\"lines.linewidth\": 2.5})\n",
    "    sns.barplot(x_pos, counts, palette='husl')\n",
    "    plt.xticks(x_pos, words, rotation=90) \n",
    "    plt.xlabel('words')\n",
    "    plt.ylabel('counts')\n",
    "    plt.show()\n",
    "# Initialise the count vectorizer with the English stop words\n",
    "count_vectorizer = CountVectorizer(stop_words='english')\n",
    "# Fit and transform the processed titles\n",
    "count_data = count_vectorizer.fit_transform(df['text_processed'])\n",
    "# Visualise the 10 most common words\n",
    "plot_10_most_common_words(count_data, count_vectorizer)\n"
   ]
  },
  {
   "cell_type": "code",
   "execution_count": 12,
   "metadata": {},
   "outputs": [
    {
     "name": "stdout",
     "output_type": "stream",
     "text": [
      "Topics found via LDA:\n",
      "\n",
      "Topic #0:\n",
      "services financial capacity microfinance research people sector development income low\n",
      "\n",
      "Topic #1:\n",
      "poverty work communities clients economic people social inclusive women promote\n",
      "\n",
      "Topic #2:\n",
      "financial development services poverty communities institutions research market capacity sustainable\n",
      "\n",
      "Topic #3:\n",
      "people mission poverty international world development empower sustainable microfinance promote\n",
      "\n",
      "Topic #4:\n",
      "children world transform communities save organizations healthy water hope public\n"
     ]
    }
   ],
   "source": [
    "import warnings\n",
    "warnings.simplefilter(\"ignore\", DeprecationWarning)\n",
    "# Load the LDA model from sk-learn\n",
    "from sklearn.decomposition import LatentDirichletAllocation as LDA\n",
    " \n",
    "# Helper function\n",
    "def print_topics(model, count_vectorizer, n_top_words):\n",
    "    words = count_vectorizer.get_feature_names()\n",
    "    for topic_idx, topic in enumerate(model.components_):\n",
    "        print(\"\\nTopic #%d:\" % topic_idx)\n",
    "        print(\" \".join([words[i]\n",
    "                        for i in topic.argsort()[:-n_top_words - 1:-1]]))\n",
    "        \n",
    "# Tweak the two parameters below\n",
    "number_topics = 5\n",
    "number_words = 10\n",
    "# Create and fit the LDA model\n",
    "lda = LDA(n_components=number_topics, n_jobs=-1)\n",
    "lda.fit(count_data)\n",
    "# Print the topics found by the LDA model\n",
    "print(\"Topics found via LDA:\")\n",
    "print_topics(lda, count_vectorizer, number_words)"
   ]
  },
  {
   "cell_type": "code",
   "execution_count": 13,
   "metadata": {},
   "outputs": [
    {
     "name": "stdout",
     "output_type": "stream",
     "text": [
      "Wall time: 2.83 s\n"
     ]
    }
   ],
   "source": [
    "%%time\n",
    "from pyLDAvis import sklearn as sklearn_lda\n",
    "import pickle \n",
    "import pyLDAvis\n",
    "# LDAvis_data_filepath = os.path.join('./ldavis_prepared_'+str(number_topics))\n",
    "LDAvis_prepared = sklearn_lda.prepare(lda, count_data, count_vectorizer)"
   ]
  },
  {
   "cell_type": "code",
   "execution_count": null,
   "metadata": {},
   "outputs": [
    {
     "name": "stderr",
     "output_type": "stream",
     "text": [
      "D:\\soft\\Anaconda3\\lib\\site-packages\\ipykernel\\ipkernel.py:287: DeprecationWarning: `should_run_async` will not call `transform_cell` automatically in the future. Please pass the result to `transformed_cell` argument and any exception that happen during thetransform in `preprocessing_exc_tuple` in IPython 7.17 and above.\n",
      "  and should_run_async(code)\n"
     ]
    },
    {
     "name": "stdout",
     "output_type": "stream",
     "text": [
      "\n",
      "Note: if you're in the IPython notebook, pyLDAvis.show() is not the best command\n",
      "      to use. Consider using pyLDAvis.display(), or pyLDAvis.enable_notebook().\n",
      "      See more information at http://pyLDAvis.github.io/quickstart.html .\n",
      "\n",
      "You must interrupt the kernel to end this command\n",
      "\n",
      "Serving to http://127.0.0.1:8891/    [Ctrl-C to exit]\n"
     ]
    },
    {
     "name": "stderr",
     "output_type": "stream",
     "text": [
      "127.0.0.1 - - [17/Dec/2020 09:40:41] \"GET / HTTP/1.1\" 200 -\n",
      "127.0.0.1 - - [17/Dec/2020 09:40:41] \"GET /LDAvis.css HTTP/1.1\" 200 -\n",
      "127.0.0.1 - - [17/Dec/2020 09:40:41] \"GET /d3.js HTTP/1.1\" 200 -\n",
      "127.0.0.1 - - [17/Dec/2020 09:40:41] \"GET /LDAvis.js HTTP/1.1\" 200 -\n"
     ]
    }
   ],
   "source": [
    "pyLDAvis.show(LDAvis_prepared)"
   ]
  },
  {
   "cell_type": "code",
   "execution_count": null,
   "metadata": {},
   "outputs": [],
   "source": []
  }
 ],
 "metadata": {
  "kernelspec": {
   "display_name": "Python 3",
   "language": "python",
   "name": "python3"
  },
  "language_info": {
   "codemirror_mode": {
    "name": "ipython",
    "version": 3
   },
   "file_extension": ".py",
   "mimetype": "text/x-python",
   "name": "python",
   "nbconvert_exporter": "python",
   "pygments_lexer": "ipython3",
   "version": "3.8.5"
  }
 },
 "nbformat": 4,
 "nbformat_minor": 4
}
