{
 "cells": [
  {
   "cell_type": "markdown",
   "metadata": {},
   "source": [
    "# I&E Study 7.1 Automated Stakeholder Analysis for Hedera\n",
    "\n",
    "\n",
    "In this Notebook we will demonstrate how to scrape, clean, analyse and visualise data from different resources to do stakeholder analysis for Hedera."
   ]
  },
  {
   "cell_type": "code",
   "execution_count": 1,
   "metadata": {
    "ExecuteTime": {
     "end_time": "2021-01-24T15:55:41.068157Z",
     "start_time": "2021-01-24T15:55:41.062816Z"
    }
   },
   "outputs": [],
   "source": [
    "import warnings\n",
    "\n",
    "warnings.filterwarnings(\"ignore\", category=DeprecationWarning)"
   ]
  },
  {
   "cell_type": "markdown",
   "metadata": {},
   "source": [
    "## Scraping\n",
    "\n",
    "First we will gather data from the website https://seepnetwork.org. More specifically we will collect the data of the members of the seepnetwork.\n",
    "\n",
    "For this we will define a method that will download the data, or if we already have the file in our local folder we just load it from there to reduce network traffic towards there website."
   ]
  },
  {
   "cell_type": "code",
   "execution_count": 2,
   "metadata": {
    "ExecuteTime": {
     "end_time": "2021-01-24T15:55:41.128656Z",
     "start_time": "2021-01-24T15:55:41.072272Z"
    }
   },
   "outputs": [],
   "source": [
    "import requests\n",
    "import os\n",
    "from pathlib import Path\n",
    "\n",
    "def load_page(name, path):\n",
    "    \n",
    "    displayname = name.replace('https://', '')\n",
    "    full_path = path+displayname\n",
    "    \n",
    "    content = \"\"\n",
    "    \n",
    "    try:\n",
    "        with open(full_path, 'r', encoding='utf-8') as f:\n",
    "            content = f.read().replace(\"\\n\", \"\").replace(\"\\t\", \"\")\n",
    "    except (OSError, IOError) as e:\n",
    "        response = requests.get(name)\n",
    "        directory = os.path.dirname(full_path)\n",
    "        Path(directory).mkdir(parents=True, exist_ok=True)\n",
    "        open(full_path, 'wb').write(response.content)\n",
    "        content = response.content\n",
    "        \n",
    "    return content \n"
   ]
  },
  {
   "cell_type": "markdown",
   "metadata": {},
   "source": [
    "First we will scrape the main page."
   ]
  },
  {
   "cell_type": "code",
   "execution_count": 3,
   "metadata": {
    "ExecuteTime": {
     "end_time": "2021-01-24T15:55:41.141219Z",
     "start_time": "2021-01-24T15:55:41.131850Z"
    }
   },
   "outputs": [],
   "source": [
    "file_dir = \"webpages/\"\n",
    "parent_page = \"https://seepnetwork.org\"\n",
    "main_content = load_page(parent_page + \"/Profiles\", file_dir)"
   ]
  },
  {
   "cell_type": "markdown",
   "metadata": {},
   "source": [
    "Next we will get all of the links to the individual member profile pages. Therefor we select all of the elements and extract the href field."
   ]
  },
  {
   "cell_type": "code",
   "execution_count": 4,
   "metadata": {
    "ExecuteTime": {
     "end_time": "2021-01-24T15:55:41.300617Z",
     "start_time": "2021-01-24T15:55:41.145496Z"
    }
   },
   "outputs": [
    {
     "name": "stdout",
     "output_type": "stream",
     "text": [
      "We found 96 members.\n"
     ]
    }
   ],
   "source": [
    "from bs4 import BeautifulSoup\n",
    "\n",
    "bs = BeautifulSoup(main_content)\n",
    "\n",
    "sub_links = []\n",
    "for link in bs.select(\".mapListViewItem .button.border.blue a\"):\n",
    "    sub_links.append(link[\"href\"])\n",
    "    \n",
    "print(f'We found {len(sub_links)} members.')"
   ]
  },
  {
   "cell_type": "markdown",
   "metadata": {},
   "source": [
    "To get the members data we download the profile pages and parse the needed fields into an array for further processing."
   ]
  },
  {
   "cell_type": "code",
   "execution_count": 5,
   "metadata": {
    "ExecuteTime": {
     "end_time": "2021-01-24T15:55:42.855597Z",
     "start_time": "2021-01-24T15:55:41.303095Z"
    }
   },
   "outputs": [],
   "source": [
    "data = []\n",
    "\n",
    "for link in sub_links:\n",
    "    content = load_page(parent_page+link, file_dir)\n",
    "    bs = BeautifulSoup(content)\n",
    "    parts = bs.select(\".sidebar.left\")\n",
    "    \n",
    "    name = parts[0].select_one(\"h3\").string.strip()\n",
    "#     years_of_membership = parts[0].select_one(\".sidebarRight > p\").string[0]\n",
    "    location = parts[0].select_one(\".sidebarRight .twoColLeft > p\").contents[-1].strip()\n",
    "    website = parts[0].select_one(\".sidebarRight .twoColRight a\")['href'].strip()\n",
    "    org_type = parts[0].select_one(\".sidebarRight .twoColRight > p\").contents[-1].strip()\n",
    "    mission_statement = parts[1].select(\".sidebarRight > p\")[0].contents[-1].strip()\n",
    "    countries_of_involvement = parts[1].select(\".sidebarRight > p\")[1].contents[-1].strip()\n",
    "    practice_areas = parts[1].select(\".sidebarRight > p\")[2].contents[-1].strip()\n",
    "    \n",
    "    data.append([name, location, website, org_type, mission_statement, countries_of_involvement, practice_areas])"
   ]
  },
  {
   "cell_type": "code",
   "execution_count": 6,
   "metadata": {
    "ExecuteTime": {
     "end_time": "2021-01-24T15:55:42.864284Z",
     "start_time": "2021-01-24T15:55:42.858518Z"
    }
   },
   "outputs": [
    {
     "data": {
      "text/plain": [
       "['Access to Finance Rwanda',\n",
       " 'Rwanda',\n",
       " 'http://www.afr.rw/',\n",
       " 'Development Organization',\n",
       " 'Low income Rwandans, especially women and youth, benefit from use of a variety of appropriate financial services',\n",
       " 'Rwanda',\n",
       " 'Fragile & Conflict-affected Environments, Gender Equality, Health, Housing']"
      ]
     },
     "execution_count": 6,
     "metadata": {},
     "output_type": "execute_result"
    }
   ],
   "source": [
    "# One Example\n",
    "data[0]"
   ]
  },
  {
   "cell_type": "markdown",
   "metadata": {},
   "source": [
    "Finally we write the parsed information into a csv file which can later be used as an input for the machine learning algorithms."
   ]
  },
  {
   "cell_type": "code",
   "execution_count": 7,
   "metadata": {
    "ExecuteTime": {
     "end_time": "2021-01-24T15:55:42.888019Z",
     "start_time": "2021-01-24T15:55:42.867409Z"
    }
   },
   "outputs": [],
   "source": [
    "import csv\n",
    "wtr = csv.writer(open ('member_data.csv', 'w', encoding='utf-8'), delimiter=',', lineterminator='\\n')\n",
    "for member in data :\n",
    "    wtr.writerow (member)"
   ]
  },
  {
   "cell_type": "markdown",
   "metadata": {},
   "source": [
    "## Analyzing the data\n"
   ]
  },
  {
   "cell_type": "markdown",
   "metadata": {},
   "source": [
    "### Load Data in Pandas DataFrame "
   ]
  },
  {
   "cell_type": "markdown",
   "metadata": {},
   "source": [
    "First of all we load all data into a pandas data frame. "
   ]
  },
  {
   "cell_type": "code",
   "execution_count": 8,
   "metadata": {
    "ExecuteTime": {
     "end_time": "2021-01-24T15:55:43.069494Z",
     "start_time": "2021-01-24T15:55:42.891318Z"
    }
   },
   "outputs": [],
   "source": [
    "import pandas as pd\n",
    "\n",
    "df = pd.read_csv(\n",
    "    \"member_data.csv\",\n",
    "    header=None,\n",
    "    names=[\n",
    "        \"name\",\n",
    "        \"location\",\n",
    "        \"website\",\n",
    "        \"org_type\",\n",
    "        \"mission_statement\",\n",
    "        \"countries_of_involvement\",\n",
    "        \"practice_areas\",\n",
    "    ],\n",
    ")"
   ]
  },
  {
   "cell_type": "markdown",
   "metadata": {},
   "source": [
    "For each organisation with have name, location, website link, organization type, their mission statement, countries of involvement, practice areas."
   ]
  },
  {
   "cell_type": "code",
   "execution_count": 9,
   "metadata": {
    "ExecuteTime": {
     "end_time": "2021-01-24T15:55:43.087024Z",
     "start_time": "2021-01-24T15:55:43.071658Z"
    }
   },
   "outputs": [
    {
     "data": {
      "text/html": [
       "<div>\n",
       "<style scoped>\n",
       "    .dataframe tbody tr th:only-of-type {\n",
       "        vertical-align: middle;\n",
       "    }\n",
       "\n",
       "    .dataframe tbody tr th {\n",
       "        vertical-align: top;\n",
       "    }\n",
       "\n",
       "    .dataframe thead th {\n",
       "        text-align: right;\n",
       "    }\n",
       "</style>\n",
       "<table border=\"1\" class=\"dataframe\">\n",
       "  <thead>\n",
       "    <tr style=\"text-align: right;\">\n",
       "      <th></th>\n",
       "      <th>name</th>\n",
       "      <th>location</th>\n",
       "      <th>website</th>\n",
       "      <th>org_type</th>\n",
       "      <th>mission_statement</th>\n",
       "      <th>countries_of_involvement</th>\n",
       "      <th>practice_areas</th>\n",
       "    </tr>\n",
       "  </thead>\n",
       "  <tbody>\n",
       "    <tr>\n",
       "      <th>0</th>\n",
       "      <td>Access to Finance Rwanda</td>\n",
       "      <td>Rwanda</td>\n",
       "      <td>http://www.afr.rw/</td>\n",
       "      <td>Development Organization</td>\n",
       "      <td>Low income Rwandans, especially women and youth, benefit from use of a variety of appropriate financial services</td>\n",
       "      <td>Rwanda</td>\n",
       "      <td>Fragile &amp; Conflict-affected Environments, Gender Equality, Health, Housing</td>\n",
       "    </tr>\n",
       "    <tr>\n",
       "      <th>1</th>\n",
       "      <td>AEMFI - Association of Ethiopian Microfinance Institutions</td>\n",
       "      <td>Ethiopia</td>\n",
       "      <td>http://www.aemfi-ethiopia.org/</td>\n",
       "      <td>National, Regional, Global Network</td>\n",
       "      <td>To enhance the capacity of microfinance institutions and financial cooperatives to deliver financials services to urban and rural households through technical assistance, human capital development...</td>\n",
       "      <td>Ethiopia</td>\n",
       "      <td>Education; Environment &amp; Climate; Financial Consumer Protection; Financial Inclusion; Housing; Livelihoods; MSME Development; Rural &amp; Agricultural Development; Savings-Led Community Finance; Urban...</td>\n",
       "    </tr>\n",
       "    <tr>\n",
       "      <th>2</th>\n",
       "      <td>Aga Khan Foundation USA</td>\n",
       "      <td>United States</td>\n",
       "      <td>https://www.akfusa.org/</td>\n",
       "      <td>Development Organization</td>\n",
       "      <td>Promote social development, primarily in low income countries.</td>\n",
       "      <td>Afghanistan; Bangladesh; India; Kenya; Kyrgyzstan; Madagascar; Mali; Mozambique; Pakistan; Tajikistan; Tanzania</td>\n",
       "      <td>Education; Financial Consumer Protection; Food Security &amp; Nutrition; Gender Equality; Rural &amp; Agricultural Development; Urban Development; WASH (Water, Sanitation, &amp; Hygiene); Youth &amp; Children</td>\n",
       "    </tr>\n",
       "    <tr>\n",
       "      <th>3</th>\n",
       "      <td>AMA - Afghanistan Microfinance Association</td>\n",
       "      <td>Afghanistan</td>\n",
       "      <td>http://www.ama.org.af/</td>\n",
       "      <td>National, Regional, Global Network</td>\n",
       "      <td>To build an inclusive, sustainable and responsible development finance sector through policy advocacy, knowledge management, coordination &amp; networking, and capacity building.</td>\n",
       "      <td>Afghanistan</td>\n",
       "      <td>Financial Inclusion</td>\n",
       "    </tr>\n",
       "    <tr>\n",
       "      <th>4</th>\n",
       "      <td>AMFA - Azerbaijan Micro-Finance Association</td>\n",
       "      <td>Azerbaijan</td>\n",
       "      <td>http://www.amfa.az/</td>\n",
       "      <td>National, Regional, Global Network</td>\n",
       "      <td>To strengthen the capacity of micro-finance institutions and to promote effective collective action in advancing the interests of the micro-finance community and its clients.</td>\n",
       "      <td>Azerbaijan</td>\n",
       "      <td>Financial Consumer Protection; Financial Inclusion; Gender Equality; MSME Development</td>\n",
       "    </tr>\n",
       "  </tbody>\n",
       "</table>\n",
       "</div>"
      ],
      "text/plain": [
       "                                                         name       location  \\\n",
       "0                                    Access to Finance Rwanda         Rwanda   \n",
       "1  AEMFI - Association of Ethiopian Microfinance Institutions       Ethiopia   \n",
       "2                                     Aga Khan Foundation USA  United States   \n",
       "3                  AMA - Afghanistan Microfinance Association    Afghanistan   \n",
       "4                 AMFA - Azerbaijan Micro-Finance Association     Azerbaijan   \n",
       "\n",
       "                          website                            org_type  \\\n",
       "0              http://www.afr.rw/            Development Organization   \n",
       "1  http://www.aemfi-ethiopia.org/  National, Regional, Global Network   \n",
       "2         https://www.akfusa.org/            Development Organization   \n",
       "3          http://www.ama.org.af/  National, Regional, Global Network   \n",
       "4             http://www.amfa.az/  National, Regional, Global Network   \n",
       "\n",
       "                                                                                                                                                                                         mission_statement  \\\n",
       "0                                                                                         Low income Rwandans, especially women and youth, benefit from use of a variety of appropriate financial services   \n",
       "1  To enhance the capacity of microfinance institutions and financial cooperatives to deliver financials services to urban and rural households through technical assistance, human capital development...   \n",
       "2                                                                                                                                           Promote social development, primarily in low income countries.   \n",
       "3                           To build an inclusive, sustainable and responsible development finance sector through policy advocacy, knowledge management, coordination & networking, and capacity building.   \n",
       "4                           To strengthen the capacity of micro-finance institutions and to promote effective collective action in advancing the interests of the micro-finance community and its clients.   \n",
       "\n",
       "                                                                                          countries_of_involvement  \\\n",
       "0                                                                                                           Rwanda   \n",
       "1                                                                                                         Ethiopia   \n",
       "2  Afghanistan; Bangladesh; India; Kenya; Kyrgyzstan; Madagascar; Mali; Mozambique; Pakistan; Tajikistan; Tanzania   \n",
       "3                                                                                                      Afghanistan   \n",
       "4                                                                                                       Azerbaijan   \n",
       "\n",
       "                                                                                                                                                                                            practice_areas  \n",
       "0                                                                                                                               Fragile & Conflict-affected Environments, Gender Equality, Health, Housing  \n",
       "1  Education; Environment & Climate; Financial Consumer Protection; Financial Inclusion; Housing; Livelihoods; MSME Development; Rural & Agricultural Development; Savings-Led Community Finance; Urban...  \n",
       "2         Education; Financial Consumer Protection; Food Security & Nutrition; Gender Equality; Rural & Agricultural Development; Urban Development; WASH (Water, Sanitation, & Hygiene); Youth & Children  \n",
       "3                                                                                                                                                                                      Financial Inclusion  \n",
       "4                                                                                                                    Financial Consumer Protection; Financial Inclusion; Gender Equality; MSME Development  "
      ]
     },
     "execution_count": 9,
     "metadata": {},
     "output_type": "execute_result"
    }
   ],
   "source": [
    "pd.set_option('display.max_colwidth',200)\n",
    "df.head(5)"
   ]
  },
  {
   "cell_type": "code",
   "execution_count": 10,
   "metadata": {
    "ExecuteTime": {
     "end_time": "2021-01-24T15:55:55.322003Z",
     "start_time": "2021-01-24T15:55:43.091073Z"
    }
   },
   "outputs": [
    {
     "data": {
      "application/vnd.jupyter.widget-view+json": {
       "model_id": "e462ab1eec47487097127b66ddee1f4e",
       "version_major": 2,
       "version_minor": 0
      },
      "text/plain": [
       "Summarize dataset:   0%|          | 0/21 [00:00<?, ?it/s]"
      ]
     },
     "metadata": {},
     "output_type": "display_data"
    },
    {
     "data": {
      "application/vnd.jupyter.widget-view+json": {
       "model_id": "8c57f459629749f2975443b68f308a97",
       "version_major": 2,
       "version_minor": 0
      },
      "text/plain": [
       "Generate report structure:   0%|          | 0/1 [00:00<?, ?it/s]"
      ]
     },
     "metadata": {},
     "output_type": "display_data"
    },
    {
     "data": {
      "application/vnd.jupyter.widget-view+json": {
       "model_id": "",
       "version_major": 2,
       "version_minor": 0
      },
      "text/plain": [
       "Render widgets:   0%|          | 0/1 [00:00<?, ?it/s]"
      ]
     },
     "metadata": {},
     "output_type": "display_data"
    },
    {
     "data": {
      "application/vnd.jupyter.widget-view+json": {
       "model_id": "e2f39506298b4962b8ca83492deeb149",
       "version_major": 2,
       "version_minor": 0
      },
      "text/plain": [
       "VBox(children=(Tab(children=(Tab(children=(GridBox(children=(VBox(children=(GridspecLayout(children=(HTML(valu…"
      ]
     },
     "metadata": {},
     "output_type": "display_data"
    }
   ],
   "source": [
    "from pandas_profiling import ProfileReport\n",
    "profile = ProfileReport(df, title=\"Pandas Profiling Report\")\n",
    "profile.to_widgets()"
   ]
  },
  {
   "cell_type": "markdown",
   "metadata": {},
   "source": [
    "### Most Common Practice Areas"
   ]
  },
  {
   "cell_type": "markdown",
   "metadata": {
    "ExecuteTime": {
     "end_time": "2021-01-24T14:33:53.670744Z",
     "start_time": "2021-01-24T14:33:53.665106Z"
    }
   },
   "source": [
    "Each of the members is assigned to several practice areas. We take a look at which practice areas are most common among the members."
   ]
  },
  {
   "cell_type": "code",
   "execution_count": 11,
   "metadata": {
    "ExecuteTime": {
     "end_time": "2021-01-24T15:55:55.338242Z",
     "start_time": "2021-01-24T15:55:55.328053Z"
    }
   },
   "outputs": [],
   "source": [
    "# Practice area dict\n",
    "practice_areas = {}\n",
    "\n",
    "# Add practice areas to dictionary\n",
    "def count_areas(areas):\n",
    "    for area in areas:\n",
    "        if area in practice_areas:\n",
    "            practice_areas[area] += 1\n",
    "        else:\n",
    "            practice_areas[area] = 1  "
   ]
  },
  {
   "cell_type": "code",
   "execution_count": 12,
   "metadata": {
    "ExecuteTime": {
     "end_time": "2021-01-24T15:55:55.391270Z",
     "start_time": "2021-01-24T15:55:55.342929Z"
    }
   },
   "outputs": [
    {
     "data": {
      "text/plain": [
       "{'Financial Inclusion': 73,\n",
       " 'Gender Equality': 55,\n",
       " 'Livelihoods': 49,\n",
       " 'Market Systems Development': 47,\n",
       " 'Savings-Led Community Finance': 46,\n",
       " 'Youth & Children': 44,\n",
       " 'MSME Development': 42,\n",
       " 'Rural & Agricultural Development': 40,\n",
       " 'Education': 37,\n",
       " 'Food Security & Nutrition': 30}"
      ]
     },
     "execution_count": 12,
     "metadata": {},
     "output_type": "execute_result"
    }
   ],
   "source": [
    "import numpy as np\n",
    "import operator\n",
    "# Load the regular expression library\n",
    "import re\n",
    "\n",
    "# Convert practice areas string to list of areas\n",
    "df[\"practice_areas\"] = df[\"practice_areas\"].replace(np.nan, '', regex=True)\n",
    "df[\"practice_areas\"] =  df.apply(lambda x: re.sub(r'\\([^)]*\\)', '',x[\"practice_areas\"]), axis=1)\n",
    "df[\"practice_areas\"] = df.apply(lambda x: [area.strip() for area in re.split('; |,',x[\"practice_areas\"])], axis=1)\n",
    "df.apply(lambda x: count_areas(x[\"practice_areas\"]), axis=1)\n",
    "\n",
    "# Print 10 most commom practice areas\n",
    "dict(sorted(practice_areas.items(), key=operator.itemgetter(1), reverse=True)[:10])"
   ]
  },
  {
   "cell_type": "markdown",
   "metadata": {},
   "source": [
    "### Mission Statement Modeling"
   ]
  },
  {
   "cell_type": "markdown",
   "metadata": {},
   "source": [
    "We use regular expression for cleaning the mission statement. We delete all non word characters and replace all uppercase letters with lowercase letters. "
   ]
  },
  {
   "cell_type": "code",
   "execution_count": 13,
   "metadata": {
    "ExecuteTime": {
     "end_time": "2021-01-24T15:55:55.433669Z",
     "start_time": "2021-01-24T15:55:55.401799Z"
    }
   },
   "outputs": [
    {
     "data": {
      "text/html": [
       "<div>\n",
       "<style scoped>\n",
       "    .dataframe tbody tr th:only-of-type {\n",
       "        vertical-align: middle;\n",
       "    }\n",
       "\n",
       "    .dataframe tbody tr th {\n",
       "        vertical-align: top;\n",
       "    }\n",
       "\n",
       "    .dataframe thead th {\n",
       "        text-align: right;\n",
       "    }\n",
       "</style>\n",
       "<table border=\"1\" class=\"dataframe\">\n",
       "  <thead>\n",
       "    <tr style=\"text-align: right;\">\n",
       "      <th></th>\n",
       "      <th>mission_statement</th>\n",
       "      <th>mission_statement_processed</th>\n",
       "    </tr>\n",
       "  </thead>\n",
       "  <tbody>\n",
       "    <tr>\n",
       "      <th>0</th>\n",
       "      <td>Low income Rwandans, especially women and youth, benefit from use of a variety of appropriate financial services</td>\n",
       "      <td>low income rwandans especially women and youth benefit from use of a variety of appropriate financial services</td>\n",
       "    </tr>\n",
       "    <tr>\n",
       "      <th>1</th>\n",
       "      <td>To enhance the capacity of microfinance institutions and financial cooperatives to deliver financials services to urban and rural households through technical assistance, human capital development...</td>\n",
       "      <td>to enhance the capacity of microfinance institutions and financial cooperatives to deliver financials services to urban and rural households through technical assistance human capital development ...</td>\n",
       "    </tr>\n",
       "    <tr>\n",
       "      <th>2</th>\n",
       "      <td>Promote social development, primarily in low income countries.</td>\n",
       "      <td>promote social development primarily in low income countries</td>\n",
       "    </tr>\n",
       "    <tr>\n",
       "      <th>3</th>\n",
       "      <td>To build an inclusive, sustainable and responsible development finance sector through policy advocacy, knowledge management, coordination &amp; networking, and capacity building.</td>\n",
       "      <td>to build an inclusive sustainable and responsible development finance sector through policy advocacy knowledge management coordination &amp; networking and capacity building</td>\n",
       "    </tr>\n",
       "    <tr>\n",
       "      <th>4</th>\n",
       "      <td>To strengthen the capacity of micro-finance institutions and to promote effective collective action in advancing the interests of the micro-finance community and its clients.</td>\n",
       "      <td>to strengthen the capacity of micro-finance institutions and to promote effective collective action in advancing the interests of the micro-finance community and its clients</td>\n",
       "    </tr>\n",
       "  </tbody>\n",
       "</table>\n",
       "</div>"
      ],
      "text/plain": [
       "                                                                                                                                                                                         mission_statement  \\\n",
       "0                                                                                         Low income Rwandans, especially women and youth, benefit from use of a variety of appropriate financial services   \n",
       "1  To enhance the capacity of microfinance institutions and financial cooperatives to deliver financials services to urban and rural households through technical assistance, human capital development...   \n",
       "2                                                                                                                                           Promote social development, primarily in low income countries.   \n",
       "3                           To build an inclusive, sustainable and responsible development finance sector through policy advocacy, knowledge management, coordination & networking, and capacity building.   \n",
       "4                           To strengthen the capacity of micro-finance institutions and to promote effective collective action in advancing the interests of the micro-finance community and its clients.   \n",
       "\n",
       "                                                                                                                                                                               mission_statement_processed  \n",
       "0                                                                                           low income rwandans especially women and youth benefit from use of a variety of appropriate financial services  \n",
       "1  to enhance the capacity of microfinance institutions and financial cooperatives to deliver financials services to urban and rural households through technical assistance human capital development ...  \n",
       "2                                                                                                                                             promote social development primarily in low income countries  \n",
       "3                                to build an inclusive sustainable and responsible development finance sector through policy advocacy knowledge management coordination & networking and capacity building  \n",
       "4                            to strengthen the capacity of micro-finance institutions and to promote effective collective action in advancing the interests of the micro-finance community and its clients  "
      ]
     },
     "execution_count": 13,
     "metadata": {},
     "output_type": "execute_result"
    }
   ],
   "source": [
    "# Remove punctuation\n",
    "df[\"mission_statement_processed\"] = df[\"mission_statement\"].map(\n",
    "    lambda x: re.sub(\"[,\\.!?]\", \"\", x)\n",
    ")\n",
    "# Convert the titles to lowercase\n",
    "df[\"mission_statement_processed\"] = df[\"mission_statement_processed\"].map(lambda x: x.lower())\n",
    "# Print out the first rows of papers\n",
    "df[[\"mission_statement\", \"mission_statement_processed\"]].head()"
   ]
  },
  {
   "cell_type": "markdown",
   "metadata": {},
   "source": [
    "#### Word Cloud"
   ]
  },
  {
   "cell_type": "markdown",
   "metadata": {},
   "source": [
    "To determine the most common words in the mission statements, we created a Wordcloud. "
   ]
  },
  {
   "cell_type": "code",
   "execution_count": 14,
   "metadata": {
    "ExecuteTime": {
     "end_time": "2021-01-24T15:55:56.063870Z",
     "start_time": "2021-01-24T15:55:55.437518Z"
    }
   },
   "outputs": [
    {
     "data": {
      "image/png": "[encoded data removed]",
      "text/plain": [
       "<PIL.Image.Image image mode=RGB size=400x200 at 0x7FA22B713B20>"
      ]
     },
     "execution_count": 14,
     "metadata": {},
     "output_type": "execute_result"
    }
   ],
   "source": [
    "# Import the wordcloud library\n",
    "from wordcloud import WordCloud\n",
    "# Join the different processed titles together.\n",
    "long_string = ','.join(list(df['mission_statement_processed'].values))\n",
    "# Create a WordCloud object\n",
    "wordcloud = WordCloud(background_color=\"white\", max_words=5000, contour_width=3, contour_color='steelblue')\n",
    "# Generate a word cloud\n",
    "wordcloud.generate(long_string)\n",
    "# Visualize the word cloud\n",
    "wordcloud.to_image()"
   ]
  },
  {
   "cell_type": "markdown",
   "metadata": {},
   "source": [
    "#### 10 Most Common Features"
   ]
  },
  {
   "cell_type": "markdown",
   "metadata": {},
   "source": [
    "We also used the CountVectorizer from sklearn to plot the 10 most common words in the mission statements."
   ]
  },
  {
   "cell_type": "code",
   "execution_count": 15,
   "metadata": {
    "ExecuteTime": {
     "end_time": "2021-01-24T15:55:56.100062Z",
     "start_time": "2021-01-24T15:55:56.066924Z"
    }
   },
   "outputs": [],
   "source": [
    "# Load the library with the CountVectorizer method\n",
    "from sklearn.feature_extraction.text import CountVectorizer\n",
    "import numpy as np\n",
    "import matplotlib.pyplot as plt\n",
    "import seaborn as sns\n",
    "sns.set_style('whitegrid')\n",
    "%matplotlib inline"
   ]
  },
  {
   "cell_type": "code",
   "execution_count": 16,
   "metadata": {
    "ExecuteTime": {
     "end_time": "2021-01-24T15:55:56.113043Z",
     "start_time": "2021-01-24T15:55:56.102959Z"
    }
   },
   "outputs": [],
   "source": [
    "# Helper function\n",
    "def plot_10_most_common_words(count_data, count_vectorizer):\n",
    "    import matplotlib.pyplot as plt\n",
    "    words = count_vectorizer.get_feature_names()\n",
    "    total_counts = np.zeros(len(words))\n",
    "    for t in count_data:\n",
    "        total_counts+=t.toarray()[0]\n",
    "    \n",
    "    count_dict = (zip(words, total_counts))\n",
    "    count_dict = sorted(count_dict, key=lambda x:x[1], reverse=True)[:10]\n",
    "    words = [w[0] for w in count_dict]\n",
    "    counts = [w[1] for w in count_dict]\n",
    "    x_pos = np.arange(len(words)) \n",
    "    # print(words)\n",
    "    plt.figure(2, figsize=(15, 15/1.6180))\n",
    "    plt.subplot(title='10 most common words')\n",
    "    sns.set_context(\"notebook\", font_scale=1.25, rc={\"lines.linewidth\": 2.5})\n",
    "    sns.barplot(x=x_pos, y=counts, palette='husl')\n",
    "    plt.xticks(x_pos, words, rotation=90) \n",
    "    plt.xlabel('words')\n",
    "    plt.ylabel('counts')\n",
    "    plt.show()"
   ]
  },
  {
   "cell_type": "code",
   "execution_count": 17,
   "metadata": {
    "ExecuteTime": {
     "end_time": "2021-01-24T15:55:56.399360Z",
     "start_time": "2021-01-24T15:55:56.116683Z"
    }
   },
   "outputs": [
    {
     "data": {
      "image/png": "[encoded data removed]",
      "text/plain": [
       "<Figure size 1080x667.491 with 1 Axes>"
      ]
     },
     "metadata": {
      "needs_background": "light"
     },
     "output_type": "display_data"
    }
   ],
   "source": [
    "# Initialise the count vectorizer with the English stop words\n",
    "count_vectorizer = CountVectorizer(stop_words='english')\n",
    "# Fit and transform the processed titles\n",
    "count_data = count_vectorizer.fit_transform(df['mission_statement_processed'])\n",
    "# Visualise the 10 most common words\n",
    "plot_10_most_common_words(count_data, count_vectorizer)"
   ]
  },
  {
   "cell_type": "markdown",
   "metadata": {},
   "source": [
    "#### LDA"
   ]
  },
  {
   "cell_type": "markdown",
   "metadata": {},
   "source": [
    "In order to get an even better understanding of the members mission, we use the Latent Dirichlet allocation algorithm. This method groups words into topics and rank the words according to their probability."
   ]
  },
  {
   "cell_type": "markdown",
   "metadata": {},
   "source": [
    "We set the number of topics to 5 and want to get the 10 most common words in those topics. "
   ]
  },
  {
   "cell_type": "code",
   "execution_count": 18,
   "metadata": {
    "ExecuteTime": {
     "end_time": "2021-01-24T15:55:56.449146Z",
     "start_time": "2021-01-24T15:55:56.402967Z"
    }
   },
   "outputs": [],
   "source": [
    "# Load the LDA model from sk-learn\n",
    "from sklearn.decomposition import LatentDirichletAllocation as LDA"
   ]
  },
  {
   "cell_type": "code",
   "execution_count": 19,
   "metadata": {
    "ExecuteTime": {
     "end_time": "2021-01-24T15:55:56.457933Z",
     "start_time": "2021-01-24T15:55:56.452110Z"
    }
   },
   "outputs": [],
   "source": [
    "# Helper function\n",
    "def print_topics(model, count_vectorizer, n_top_words):\n",
    "    words = count_vectorizer.get_feature_names()\n",
    "    for topic_idx, topic in enumerate(model.components_):\n",
    "        print(f\"\\nTopic #{topic_idx+1:d}:\")\n",
    "        print(\" \".join([words[i]\n",
    "                        for i in topic.argsort()[:-n_top_words - 1:-1]]))"
   ]
  },
  {
   "cell_type": "code",
   "execution_count": 20,
   "metadata": {
    "ExecuteTime": {
     "end_time": "2021-01-24T15:55:56.754165Z",
     "start_time": "2021-01-24T15:55:56.462047Z"
    }
   },
   "outputs": [
    {
     "name": "stdout",
     "output_type": "stream",
     "text": [
      "Topics found via LDA:\n",
      "\n",
      "Topic #1:\n",
      "children communities poverty international market people lives work women jobs\n",
      "\n",
      "Topic #2:\n",
      "services inclusive economic development financial social sector global providing capacity\n",
      "\n",
      "Topic #3:\n",
      "poverty people communities mission sustainable build development promote change world\n",
      "\n",
      "Topic #4:\n",
      "financial services microfinance institutions research economic mission members la works\n",
      "\n",
      "Topic #5:\n",
      "people world lives groups savings poverty livelihoods et mission des\n"
     ]
    }
   ],
   "source": [
    "# Tweak the two parameters below\n",
    "number_topics = 5\n",
    "number_words = 10\n",
    "# Create and fit the LDA model\n",
    "lda = LDA(n_components=number_topics, n_jobs=-1)\n",
    "lda.fit(count_data)\n",
    "# Print the topics found by the LDA model\n",
    "print(\"Topics found via LDA:\")\n",
    "print_topics(lda, count_vectorizer, number_words)"
   ]
  },
  {
   "cell_type": "markdown",
   "metadata": {},
   "source": [
    "#### PyLDAvis"
   ]
  },
  {
   "cell_type": "markdown",
   "metadata": {},
   "source": [
    "We also tried a Python library for interactive topic model visualization called pyLDAvis."
   ]
  },
  {
   "cell_type": "code",
   "execution_count": 21,
   "metadata": {
    "ExecuteTime": {
     "end_time": "2021-01-24T15:55:56.801786Z",
     "start_time": "2021-01-24T15:55:56.756982Z"
    }
   },
   "outputs": [],
   "source": [
    "import pyLDAvis\n",
    "from pyLDAvis import sklearn as sklearn_lda"
   ]
  },
  {
   "cell_type": "code",
   "execution_count": 24,
   "metadata": {
    "ExecuteTime": {
     "end_time": "2021-01-24T15:56:42.456866Z",
     "start_time": "2021-01-24T15:56:32.705085Z"
    }
   },
   "outputs": [
    {
     "name": "stdout",
     "output_type": "stream",
     "text": [
      "CPU times: user 452 ms, sys: 13.7 ms, total: 466 ms\n",
      "Wall time: 9.75 s\n"
     ]
    },
    {
     "name": "stderr",
     "output_type": "stream",
     "text": [
      "/opt/conda/lib/python3.8/site-packages/pyLDAvis/_prepare.py:257: FutureWarning: Sorting because non-concatenation axis is not aligned. A future version\n",
      "of pandas will change to not sort by default.\n",
      "\n",
      "To accept the future behavior, pass 'sort=False'.\n",
      "\n",
      "To retain the current behavior and silence the warning, pass 'sort=True'.\n",
      "\n",
      "  return pd.concat([default_term_info] + list(topic_dfs))\n"
     ]
    }
   ],
   "source": [
    "%%time\n",
    "# LDAvis_data_filepath = os.path.join('./ldavis_prepared_'+str(number_topics))\n",
    "LDAvis_prepared = sklearn_lda.prepare(lda, count_data, count_vectorizer)"
   ]
  },
  {
   "cell_type": "code",
   "execution_count": 26,
   "metadata": {
    "ExecuteTime": {
     "end_time": "2021-01-24T15:57:02.480169Z",
     "start_time": "2021-01-24T15:57:02.467169Z"
    }
   },
   "outputs": [
    {
     "data": {
      "text/html": [
       "\n",
       "<link rel=\"stylesheet\" type=\"text/css\" href=\"https://cdn.rawgit.com/bmabey/pyLDAvis/files/ldavis.v1.0.0.css\">\n",
       "\n",
       "\n",
       "<div id=\"ldavis_el452721403344884918405661289274\"></div>\n",
       "<script type=\"text/javascript\">\n",
       "\n",
       "var ldavis_el452721403344884918405661289274_data = {\"mdsDat\": {\"x\": [0.05216758810205429, -0.10228505708266042, -0.07432534433791829, 0.07823275484239636, 0.046210058476127996], \"y\": [-0.06787885638923652, -0.014442830743502087, 0.0418398931167557, 0.10314212177536815, -0.06266032775938524], \"topics\": [1, 2, 3, 4, 5], \"cluster\": [1, 1, 1, 1, 1], \"Freq\": [28.744462426806333, 23.51678994384841, 17.00118835841774, 16.768384208837187, 13.969175062090342]}, \"tinfo\": {\"Category\": [\"Default\", \"Default\", \"Default\", \"Default\", \"Default\", \"Default\", \"Default\", \"Default\", \"Default\", \"Default\", \"Default\", \"Default\", \"Default\", \"Default\", \"Default\", \"Default\", \"Default\", \"Default\", \"Default\", \"Default\", \"Default\", \"Default\", \"Default\", \"Default\", \"Default\", \"Default\", \"Default\", \"Default\", \"Default\", \"Default\", \"Topic1\", \"Topic1\", \"Topic1\", \"Topic1\", \"Topic1\", \"Topic1\", \"Topic1\", \"Topic1\", \"Topic1\", \"Topic1\", \"Topic1\", \"Topic1\", \"Topic1\", \"Topic1\", \"Topic1\", \"Topic1\", \"Topic1\", \"Topic1\", \"Topic1\", \"Topic1\", \"Topic1\", \"Topic1\", \"Topic1\", \"Topic1\", \"Topic1\", \"Topic1\", \"Topic1\", \"Topic1\", \"Topic1\", \"Topic1\", \"Topic1\", \"Topic1\", \"Topic1\", \"Topic1\", \"Topic1\", \"Topic1\", \"Topic1\", \"Topic1\", \"Topic1\", \"Topic1\", \"Topic1\", \"Topic1\", \"Topic1\", \"Topic1\", \"Topic1\", \"Topic1\", \"Topic1\", \"Topic1\", \"Topic1\", \"Topic1\", \"Topic1\", \"Topic1\", \"Topic1\", \"Topic1\", \"Topic1\", \"Topic2\", \"Topic2\", \"Topic2\", \"Topic2\", \"Topic2\", \"Topic2\", \"Topic2\", \"Topic2\", \"Topic2\", \"Topic2\", \"Topic2\", \"Topic2\", \"Topic2\", \"Topic2\", \"Topic2\", \"Topic2\", \"Topic2\", \"Topic2\", \"Topic2\", \"Topic2\", \"Topic2\", \"Topic2\", \"Topic2\", \"Topic2\", \"Topic2\", \"Topic2\", \"Topic2\", \"Topic2\", \"Topic2\", \"Topic2\", \"Topic2\", \"Topic2\", \"Topic2\", \"Topic2\", \"Topic2\", \"Topic2\", \"Topic2\", \"Topic2\", \"Topic2\", \"Topic2\", \"Topic2\", \"Topic2\", \"Topic2\", \"Topic2\", \"Topic2\", \"Topic2\", \"Topic2\", \"Topic2\", \"Topic2\", \"Topic2\", \"Topic2\", \"Topic2\", \"Topic2\", \"Topic2\", \"Topic2\", \"Topic2\", \"Topic2\", \"Topic2\", \"Topic2\", \"Topic2\", \"Topic2\", \"Topic2\", \"Topic2\", \"Topic2\", \"Topic2\", \"Topic2\", \"Topic2\", \"Topic2\", \"Topic2\", \"Topic2\", \"Topic2\", \"Topic2\", \"Topic2\", \"Topic3\", \"Topic3\", \"Topic3\", \"Topic3\", \"Topic3\", \"Topic3\", \"Topic3\", \"Topic3\", \"Topic3\", \"Topic3\", \"Topic3\", \"Topic3\", \"Topic3\", \"Topic3\", \"Topic3\", \"Topic3\", \"Topic3\", \"Topic3\", \"Topic3\", \"Topic3\", \"Topic3\", \"Topic3\", \"Topic3\", \"Topic3\", \"Topic3\", \"Topic3\", \"Topic3\", \"Topic3\", \"Topic3\", \"Topic3\", \"Topic3\", \"Topic3\", \"Topic3\", \"Topic3\", \"Topic3\", \"Topic3\", \"Topic3\", \"Topic3\", \"Topic3\", \"Topic3\", \"Topic3\", \"Topic3\", \"Topic3\", \"Topic3\", \"Topic3\", \"Topic3\", \"Topic3\", \"Topic3\", \"Topic3\", \"Topic3\", \"Topic3\", \"Topic3\", \"Topic3\", \"Topic3\", \"Topic3\", \"Topic3\", \"Topic3\", \"Topic3\", \"Topic3\", \"Topic3\", \"Topic3\", \"Topic3\", \"Topic3\", \"Topic3\", \"Topic3\", \"Topic3\", \"Topic4\", \"Topic4\", \"Topic4\", \"Topic4\", \"Topic4\", \"Topic4\", \"Topic4\", \"Topic4\", \"Topic4\", \"Topic4\", \"Topic4\", \"Topic4\", \"Topic4\", \"Topic4\", \"Topic4\", \"Topic4\", \"Topic4\", \"Topic4\", \"Topic4\", \"Topic4\", \"Topic4\", \"Topic4\", \"Topic4\", \"Topic4\", \"Topic4\", \"Topic4\", \"Topic4\", \"Topic4\", \"Topic4\", \"Topic4\", \"Topic4\", \"Topic4\", \"Topic4\", \"Topic4\", \"Topic4\", \"Topic4\", \"Topic4\", \"Topic4\", \"Topic4\", \"Topic4\", \"Topic4\", \"Topic4\", \"Topic4\", \"Topic4\", \"Topic4\", \"Topic4\", \"Topic4\", \"Topic4\", \"Topic4\", \"Topic4\", \"Topic4\", \"Topic4\", \"Topic4\", \"Topic4\", \"Topic4\", \"Topic4\", \"Topic4\", \"Topic4\", \"Topic4\", \"Topic4\", \"Topic4\", \"Topic4\", \"Topic4\", \"Topic4\", \"Topic4\", \"Topic4\", \"Topic4\", \"Topic4\", \"Topic4\", \"Topic4\", \"Topic4\", \"Topic4\", \"Topic5\", \"Topic5\", \"Topic5\", \"Topic5\", \"Topic5\", \"Topic5\", \"Topic5\", \"Topic5\", \"Topic5\", \"Topic5\", \"Topic5\", \"Topic5\", \"Topic5\", \"Topic5\", \"Topic5\", \"Topic5\", \"Topic5\", \"Topic5\", \"Topic5\", \"Topic5\", \"Topic5\", \"Topic5\", \"Topic5\", \"Topic5\", \"Topic5\", \"Topic5\", \"Topic5\", \"Topic5\", \"Topic5\", \"Topic5\", \"Topic5\", \"Topic5\", \"Topic5\", \"Topic5\", \"Topic5\", \"Topic5\", \"Topic5\", \"Topic5\", \"Topic5\", \"Topic5\", \"Topic5\", \"Topic5\", \"Topic5\", \"Topic5\", \"Topic5\", \"Topic5\", \"Topic5\", \"Topic5\", \"Topic5\", \"Topic5\", \"Topic5\", \"Topic5\", \"Topic5\", \"Topic5\", \"Topic5\", \"Topic5\", \"Topic5\", \"Topic5\"], \"Freq\": [4.0, 12.0, 15.0, 3.0, 7.0, 8.0, 7.0, 14.0, 9.0, 8.0, 2.0, 2.0, 4.0, 7.0, 5.0, 3.0, 9.0, 8.0, 5.0, 6.0, 5.0, 9.0, 3.0, 3.0, 8.0, 14.0, 2.0, 2.0, 3.0, 3.0, 3.070395338912721, 3.0703943559119256, 3.0703916050771873, 2.339347120458242, 2.339347120458242, 2.339342166941561, 2.339341193468855, 2.3393371627504997, 1.608301182015259, 1.608301182015259, 1.6083008641902345, 1.6083002988500121, 1.6082999714398016, 1.6082995602259738, 1.6082982432982063, 1.608297938384511, 1.6082977220989585, 1.608297096489129, 1.608296958560699, 1.6082957196751981, 1.6082936509723664, 1.6082936180492224, 1.608293092336495, 1.608293092336495, 1.6082928611746825, 1.6082925810304018, 1.6082925810304018, 1.608288662846174, 2.340939974299917, 2.339942936555299, 3.801849691707078, 3.071337415673117, 8.19293612815186, 3.8049921969545792, 6.727788729920175, 6.000969589658359, 5.268124966131785, 3.802830538645012, 2.339295569074708, 3.805648131649079, 2.3395106379088366, 3.800223382360272, 3.0704985663512554, 3.0701680882928555, 3.070181079617307, 3.8042561756087507, 2.3401989579320466, 3.0711865981984445, 2.3407733157047352, 2.338749276323921, 3.798222057138393, 2.3403217798356244, 2.340055114550482, 2.3399507727358153, 2.3399319255535134, 2.221989079925757, 2.221985982474045, 2.221984227427153, 2.2219821410916323, 1.5276166319483497, 1.5276164384229611, 1.5276161976835507, 1.5276161976835507, 1.5276161689839223, 1.527615959117578, 1.527615810628433, 1.5276121784273886, 1.5276114847660756, 2.2223584373351772, 4.313062858138474, 0.8332449258965794, 0.8332449258965794, 0.8332449258965794, 0.8332449258965794, 0.8332449258965794, 0.8332449258965794, 0.8332449258965794, 0.8332449258965794, 0.8332449258965794, 0.8332449258965794, 0.8332449258965794, 0.8332449258965794, 0.8332449258965794, 0.8332449258965794, 0.8332449258965794, 0.8332449258965794, 0.8332449258965794, 0.8332449258965794, 0.8332449258965794, 0.8332449258965794, 0.8332449258965794, 0.8332449258965794, 0.8332449258965794, 2.9185596136772154, 0.8332449258965794, 0.8332449258965794, 0.8332449258965794, 0.8332449258965794, 3.6138207353085834, 0.8332449258965794, 3.6181816834011578, 4.306746579785275, 2.2230878413930726, 4.306908854328869, 1.5276881559661164, 1.5277897070651951, 1.527721572265676, 4.31155214003994, 2.9189607221035216, 2.9187700648012367, 1.527986210156414, 1.5278075737243786, 1.5277206386229438, 3.612930509295308, 5.000919782236558, 3.6116542334368673, 4.307804611731328, 4.307655342570899, 2.916929223231133, 2.918690978448347, 2.919585552449407, 2.2221540243503894, 2.912117982177783, 2.2229276270806158, 2.2174906090691504, 1.528812524180084, 1.5286566883221984, 1.5286303221123951, 1.3772199924408481, 1.3772195628585042, 1.3772194185017665, 1.3772122183943358, 0.7512099807510654, 0.7512099807510654, 0.7512099807510654, 0.7512099807510654, 0.7512099807510654, 0.7512099807510654, 0.7512099807510654, 0.7512099807510654, 0.7512099807510654, 0.7512099807510654, 0.7512099807510654, 0.7512099807510654, 0.7512099807510654, 0.7512099807510654, 0.7512099807510654, 0.7512099807510654, 0.7512099807510654, 0.7512093204363101, 0.7512093204363101, 0.7512093204363101, 0.7512093204363101, 0.7512093204363101, 0.7512093204363101, 0.7512093204363101, 0.7512093204363101, 0.7512093204363101, 1.3779858704348031, 1.3775203194561978, 2.00435628998725, 5.768650745869343, 2.003929067138612, 1.3785293502780278, 1.3774197920605054, 1.3772329981779754, 1.3637281347490962, 3.2566424492453607, 1.378300832152224, 3.886689601874865, 2.004479058620949, 4.50994627011168, 2.0042755319390606, 1.3780223736312582, 1.3774665438686315, 1.377779864790767, 2.0038731194472232, 1.377726837560445, 1.3771402446113221, 2.6297800527284934, 1.3773125559870967, 1.377246360178159, 1.377246360178159, 1.3784252292436536, 2.0065469737647894, 2.0038094445216887, 2.0047467228781275, 2.000863064357784, 1.3783772381626256, 1.3782819712743952, 1.3781240543036088, 1.3781240543036088, 1.3780876766792831, 1.3774625200671107, 2.622373614864519, 1.3736241630732748, 1.3736241630732748, 1.3736241630732748, 1.373622953795247, 1.3736215231839086, 1.3736187857799134, 0.7492489724976007, 0.7492489724976007, 0.7492489724976007, 0.7492489724976007, 0.7492489724976007, 0.7492489724976007, 0.7492489724976007, 0.7492489724976007, 0.7492489724976007, 0.7492489724976007, 0.7492489724976007, 0.7492489724976007, 0.7492489724976007, 0.7492489724976007, 0.7492489724976007, 0.7492489724976007, 0.7492489724976007, 0.7492489724976007, 0.7492489724976007, 0.7492489724976007, 0.7492489724976007, 0.7492489724976007, 0.7492489724976007, 0.7492489724976007, 0.7492489724976007, 0.7492489724976007, 0.7492489724976007, 0.7492489724976007, 0.7492489724976007, 0.7492489724976007, 0.7492489724976007, 0.7492489724976007, 0.7492489724976007, 0.7492489724976007, 0.7492489724976007, 0.7492489724976007, 0.7492489724976007, 0.7492489724976007, 2.6239202583941865, 1.9993089310104954, 0.7492489724976007, 0.7492489724976007, 1.374364570523502, 1.3738206594718985, 0.7492489724976007, 3.2483495655620986, 4.496253040657039, 2.624019068411639, 2.00028589011862, 1.9988862888199577, 1.3746847908203998, 1.374638603368377, 1.3739015075047736, 1.3746041020618123, 1.373414748454729, 1.9976280060829272, 2.6205809558454334, 1.3732127103829492, 1.9991717014867192, 1.3733823010462012, 1.373557302358727, 1.3741986895193696, 1.372358862828254, 1.3743658571591557, 1.3751661512904436, 4.174960532143662, 1.8555376390310492, 1.8552752437130975, 1.2756816174419308, 1.2756810833859946, 1.275680357775995, 1.2756796089363727, 1.2756784629862477, 0.6958254445589593, 0.6958254445589593, 0.6958254445589593, 0.6958254445589593, 0.6958254445589593, 0.6958254445589593, 0.6958254445589593, 0.6958254445589593, 0.6958254445589593, 0.6958254445589593, 0.6958254445589593, 0.6958254445589593, 0.6958254445589593, 0.6958254445589593, 0.6958254445589593, 0.6958254445589593, 0.6958254445589593, 0.6958254445589593, 0.6958248568388451, 0.6958248568388451, 0.6958248568388451, 0.6958248568388451, 0.6958248568388451, 0.6958248568388451, 0.6958248568388451, 1.8572156711020875, 1.276458984606002, 1.2766801574691446, 1.2757927484245624, 2.9951437172133217, 2.435462645316087, 1.2759984951475394, 1.2769270743375518, 1.275956178532784, 1.2765261709497195, 3.0215755227910184, 1.8574680648605317, 3.0181456561307907, 1.278701366785435, 1.2758464343938953, 1.8575991893666384, 1.2776519691731618, 1.2775675666833262, 2.435174744427118, 1.2104010189813248, 1.276570899676995, 1.2756010754930562, 1.8136165612233561, 1.2762021519887716, 1.2757587930462364], \"Term\": [\"children\", \"financial\", \"people\", \"savings\", \"institutions\", \"international\", \"market\", \"services\", \"microfinance\", \"social\", \"jobs\", \"ideas\", \"works\", \"lives\", \"des\", \"women\", \"world\", \"economic\", \"groups\", \"inclusive\", \"livelihoods\", \"research\", \"et\", \"la\", \"sector\", \"communities\", \"save\", \"families\", \"catholic\", \"able\", \"catholic\", \"able\", \"action\", \"geopoll\", \"mobile\", \"independent\", \"micro\", \"extreme\", \"empowered\", \"civil\", \"national\", \"volunteering\", \"essential\", \"forces\", \"traditional\", \"ide\", \"collective\", \"humanity\", \"bring\", \"areas\", \"strengthen\", \"hope\", \"ipsos\", \"public\", \"productive\", \"professionally\", \"manner\", \"foundation\", \"assist\", \"finance\", \"change\", \"local\", \"poverty\", \"build\", \"people\", \"communities\", \"mission\", \"promote\", \"rural\", \"sustainable\", \"community\", \"world\", \"poor\", \"market\", \"institutions\", \"development\", \"vulnerable\", \"international\", \"improve\", \"create\", \"services\", \"livelihoods\", \"work\", \"needs\", \"lives\", \"msa\", \"challenges\", \"innovative\", \"advance\", \"talent\", \"collaborative\", \"developing\", \"researchers\", \"excellence\", \"environment\", \"products\", \"responsible\", \"philippines\", \"new\", \"inclusive\", \"experienced\", \"measurement\", \"attract\", \"tailor\", \"implement\", \"marketshare\", \"strategic\", \"strive\", \"facilitators\", \"circumstances\", \"stay\", \"coaches\", \"coaching\", \"disruptive\", \"quest\", \"creative\", \"nerds\", \"hustle\", \"value\", \"identify\", \"associates\", \"good\", \"meet\", \"knowledge\", \"relevant\", \"generate\", \"demands\", \"offers\", \"providing\", \"designed\", \"global\", \"sector\", \"youth\", \"social\", \"protect\", \"driven\", \"practitioners\", \"economic\", \"clients\", \"building\", \"impact\", \"believe\", \"understand\", \"capacity\", \"services\", \"research\", \"development\", \"financial\", \"promote\", \"sustainable\", \"communities\", \"poor\", \"poverty\", \"microfinance\", \"mission\", \"support\", \"work\", \"empower\", \"nathan\", \"deliver\", \"icrw\", \"striving\", \"frameworks\", \"financing\", \"analytics\", \"assessing\", \"hurdles\", \"trusted\", \"evaluating\", \"experts\", \"infrastructure\", \"regulatory\", \"disputes\", \"securing\", \"commercial\", \"consulting\", \"analysis\", \"sound\", \"navigating\", \"gender\", \"profit\", \"guide\", \"practices\", \"conduct\", \"principle\", \"anchored\", \"alleviation\", \"equity\", \"industry\", \"evidence\", \"la\", \"financial\", \"quality\", \"technical\", \"outreach\", \"decision\", \"advice\", \"institutions\", \"enhance\", \"microfinance\", \"members\", \"services\", \"works\", \"achieve\", \"sustainability\", \"partners\", \"des\", \"offering\", \"making\", \"research\", \"inclusion\", \"government\", \"private\", \"especially\", \"economic\", \"capacity\", \"mission\", \"people\", \"build\", \"clients\", \"low\", \"income\", \"building\", \"human\", \"savings\", \"phenomenon\", \"kenya\", \"vary\", \"tr\\u00f3caire\", \"control\", \"vibrant\", \"kenyan\", \"connotation\", \"form\", \"substantially\", \"link\", \"concepts\", \"comprehensive\", \"chamas\", \"chama\", \"surrounding\", \"capture\", \"continent\", \"susu\", \"swahili\", \"coat\", \"launched\", \"strong\", \"stokvel\", \"cultural\", \"exploring\", \"pull\", \"group\", \"resulting\", \"differ\", \"april\", \"arms\", \"sgs\", \"similarities\", \"differences\", \"booklet\", \"south\", \"culture\", \"called\", \"findings\", \"sg4africa\", \"publication\", \"enshrined\", \"harambee\", \"groups\", \"et\", \"encyclopedic\", \"ecosystems\", \"churches\", \"respond\", \"illustrated\", \"world\", \"people\", \"lives\", \"livelihoods\", \"des\", \"en\", \"country\", \"just\", \"living\", \"dignity\", \"social\", \"poverty\", \"works\", \"mission\", \"poor\", \"needs\", \"economic\", \"promote\", \"research\", \"sustainable\", \"children\", \"jobs\", \"ideas\", \"barriers\", \"ecoventures\", \"healthy\", \"water\", \"right\", \"grassroots\", \"face\", \"differently\", \"2003\", \"millions\", \"helped\", \"grow\", \"broken\", \"energy\", \"potential\", \"hand\", \"povertyhand\", \"ll\", \"skills\", \"look\", \"times\", \"entrepreneurs\", \"win\", \"strikes\", \"deserves\", \"child\", \"large\", \"gives\", \"start\", \"learn\", \"women\", \"save\", \"families\", \"organization\", \"international\", \"market\", \"systems\", \"provide\", \"organizations\", \"training\", \"communities\", \"work\", \"poverty\", \"help\", \"solutions\", \"lives\", \"transform\", \"better\", \"people\", \"support\", \"resources\", \"vulnerable\", \"development\", \"world\", \"needs\"], \"Total\": [4.0, 12.0, 15.0, 3.0, 7.0, 8.0, 7.0, 14.0, 9.0, 8.0, 2.0, 2.0, 4.0, 7.0, 5.0, 3.0, 9.0, 8.0, 5.0, 6.0, 5.0, 9.0, 3.0, 3.0, 8.0, 14.0, 2.0, 2.0, 3.0, 3.0, 3.5753192662142643, 3.575319125660488, 3.5753187334505196, 2.8442721854791504, 2.8442721854791504, 2.844271474238335, 2.844271355760728, 2.844270753242205, 2.113225427947637, 2.113225427947637, 2.1132253825748517, 2.1132253024701835, 2.1132252540622103, 2.113225194739044, 2.1132250151662517, 2.11322496152262, 2.1132249395843727, 2.113224838516386, 2.1132248219284357, 2.1132246442430165, 2.113224374459602, 2.113224341353429, 2.1132242832026873, 2.1132242832026873, 2.1132242250203666, 2.1132241962073213, 2.1132241962073213, 2.113223667410712, 3.5387224170396516, 3.5386726938778197, 6.275067992901914, 4.894190931549221, 18.119040227288657, 6.877470681481411, 15.798958412418326, 14.053421012406375, 12.182988386988363, 8.958872081446197, 4.050138921950019, 9.539725896650408, 4.11853581686359, 9.976353884008581, 6.907216476661627, 7.2834619011750545, 7.39957662373055, 12.090934358787003, 4.628490018908286, 8.490785694409544, 4.789101588214233, 4.812832104922608, 14.797470514469232, 5.29761918089272, 6.597018880332083, 7.1991953726363445, 7.775149961012792, 2.7342476822847486, 2.7342473999268697, 2.7342472370611866, 2.734247052329507, 2.0398756825608677, 2.0398756648774485, 2.0398756428514053, 2.0398756428514053, 2.0398756403994334, 2.039875621437422, 2.039875607484128, 2.03987528631314, 2.0398752160173204, 3.4652744459356204, 6.79879281859185, 1.3455037506897423, 1.3455037506897423, 1.3455037506897423, 1.3455037506897423, 1.3455037506897423, 1.3455037506897423, 1.3455037506897423, 1.3455037506897423, 1.3455037506897423, 1.3455037506897423, 1.3455037506897423, 1.3455037506897423, 1.3455037506897423, 1.3455037506897423, 1.3455037506897423, 1.3455037506897423, 1.3455037506897423, 1.3455037506897423, 1.3455037506897423, 1.3455037506897423, 1.3455037506897423, 1.3455037506897423, 1.3455037506897423, 4.785567614554852, 1.3455037506897423, 1.3455037506897423, 1.3455037506897423, 1.3455037506897423, 6.0602236875441235, 1.3455037506897423, 6.685148523950355, 8.111682067432731, 3.9402211532191918, 8.15254921354805, 2.6197452883589722, 2.6659025901469073, 2.665895833888729, 8.674193111563058, 5.991494413574285, 6.035879781187597, 2.7709023171644884, 2.770912116979878, 2.7709167517156996, 8.818592068837862, 14.797470514469232, 9.337608128824922, 12.090934358787003, 12.966180593569561, 8.958872081446197, 9.539725896650408, 14.053421012406375, 6.907216476661627, 18.119040227288657, 9.307621817351842, 12.182988386988363, 3.8309119332642414, 6.597018880332083, 3.350663287071722, 1.9031515393363685, 1.903151555861648, 1.9031515615755494, 1.9031517786191925, 1.2771417650452832, 1.2771417650452832, 1.2771417650452832, 1.2771417650452832, 1.2771417650452832, 1.2771417650452832, 1.2771417650452832, 1.2771417650452832, 1.2771417650452832, 1.2771417650452832, 1.2771417650452832, 1.2771417650452832, 1.2771417650452832, 1.2771417650452832, 1.2771417650452832, 1.2771417650452832, 1.2771417650452832, 1.2771417906313145, 1.2771417906313145, 1.2771417906313145, 1.2771417906313145, 1.2771417906313145, 1.2771417906313145, 1.2771417906313145, 1.2771417906313145, 1.2771417906313145, 2.5275289949984976, 2.5275275943179, 3.8843862362814106, 12.966180593569561, 3.95448506160854, 2.5973794936266503, 2.5975011857723365, 2.5975218686553623, 2.5967517646071228, 7.39957662373055, 2.6340152135803976, 9.307621817351842, 4.648735415349601, 14.797470514469232, 4.937672004281286, 3.1073720356149637, 3.177347333549229, 3.214044406963506, 5.864120353270727, 3.2918395436207586, 3.291903923689175, 9.337608128824922, 3.365229371404764, 3.365240651770055, 3.365240651770055, 3.90808113580726, 8.674193111563058, 8.818592068837862, 12.182988386988363, 15.798958412418326, 6.877470681481411, 5.991494413574285, 4.022796287910845, 4.022796287910845, 6.035879781187597, 4.753976529428828, 3.148632177242305, 1.8998820570863237, 1.8998820570863237, 1.8998820570863237, 1.8998821003846293, 1.899882150328177, 1.8998822655784693, 1.2755070136833573, 1.2755070136833573, 1.2755070136833573, 1.2755070136833573, 1.2755070136833573, 1.2755070136833573, 1.2755070136833573, 1.2755070136833573, 1.2755070136833573, 1.2755070136833573, 1.2755070136833573, 1.2755070136833573, 1.2755070136833573, 1.2755070136833573, 1.2755070136833573, 1.2755070136833573, 1.2755070136833573, 1.2755070136833573, 1.2755070136833573, 1.2755070136833573, 1.2755070136833573, 1.2755070136833573, 1.2755070136833573, 1.2755070136833573, 1.2755070136833573, 1.2755070136833573, 1.2755070136833573, 1.2755070136833573, 1.2755070136833573, 1.2755070136833573, 1.2755070136833573, 1.2755070136833573, 1.2755070136833573, 1.2755070136833573, 1.2755070136833573, 1.2755070136833573, 1.2755070136833573, 1.2755070136833573, 5.153756894773916, 3.8811088096365336, 1.2755070136833573, 1.2755070136833573, 2.630800832179747, 2.630894558041464, 1.2755070136833573, 9.976353884008581, 15.798958412418326, 7.775149961012792, 5.29761918089272, 5.864120353270727, 3.3251416886377023, 3.325122960643421, 3.361927709459793, 3.836796645146143, 3.988033794042086, 8.15254921354805, 18.119040227288657, 4.937672004281286, 12.182988386988363, 6.907216476661627, 7.1991953726363445, 8.674193111563058, 8.958872081446197, 9.337608128824922, 9.539725896650408, 4.710123911216825, 2.3906999781687612, 2.390721238323677, 1.8108440372479446, 1.8108441122834087, 1.810844215963814, 1.8108443223123258, 1.8108444900273337, 1.2309881178274096, 1.2309881178274096, 1.2309881178274096, 1.2309881178274096, 1.2309881178274096, 1.2309881178274096, 1.2309881178274096, 1.2309881178274096, 1.2309881178274096, 1.2309881178274096, 1.2309881178274096, 1.2309881178274096, 1.2309881178274096, 1.2309881178274096, 1.2309881178274096, 1.2309881178274096, 1.2309881178274096, 1.2309881178274096, 1.2309882010879045, 1.2309882010879045, 1.2309882010879045, 1.2309882010879045, 1.2309882010879045, 1.2309882010879045, 1.2309882010879045, 3.6409534695945256, 2.435159915294353, 2.4367750007542153, 2.541860978459238, 8.490785694409544, 7.2834619011750545, 3.1312016224688675, 3.165933608216135, 3.1662499193828433, 3.2360306762624695, 14.053421012406375, 6.597018880332083, 18.119040227288657, 3.7918205736218162, 3.8255566428235506, 7.775149961012792, 3.8603921369546126, 3.861955821481967, 15.798958412418326, 3.8309119332642414, 4.486493194387723, 4.628490018908286, 12.090934358787003, 9.976353884008581, 7.1991953726363445], \"loglift\": [30.0, 29.0, 28.0, 27.0, 26.0, 25.0, 24.0, 23.0, 22.0, 21.0, 20.0, 19.0, 18.0, 17.0, 16.0, 15.0, 14.0, 13.0, 12.0, 11.0, 10.0, 9.0, 8.0, 7.0, 6.0, 5.0, 4.0, 3.0, 2.0, 1.0, 1.0945, 1.0945, 1.0945, 1.0513, 1.0513, 1.0513, 1.0513, 1.0513, 0.9737, 0.9737, 0.9737, 0.9737, 0.9737, 0.9737, 0.9737, 0.9737, 0.9737, 0.9737, 0.9737, 0.9737, 0.9737, 0.9737, 0.9737, 0.9737, 0.9737, 0.9737, 0.9737, 0.9737, 0.8335, 0.8331, 0.7456, 0.7808, 0.453, 0.6548, 0.393, 0.3958, 0.4084, 0.3898, 0.6978, 0.3277, 0.6812, 0.2816, 0.436, 0.3829, 0.367, 0.0904, 0.5647, 0.2298, 0.5309, 0.5251, -0.1132, 0.4298, 0.2103, 0.1229, 0.0459, 1.24, 1.24, 1.24, 1.24, 1.1583, 1.1583, 1.1583, 1.1583, 1.1583, 1.1583, 1.1583, 1.1583, 1.1583, 1.0032, 0.9924, 0.9683, 0.9683, 0.9683, 0.9683, 0.9683, 0.9683, 0.9683, 0.9683, 0.9683, 0.9683, 0.9683, 0.9683, 0.9683, 0.9683, 0.9683, 0.9683, 0.9683, 0.9683, 0.9683, 0.9683, 0.9683, 0.9683, 0.9683, 0.9529, 0.9683, 0.9683, 0.9683, 0.9683, 0.9305, 0.9683, 0.8335, 0.8143, 0.8751, 0.8093, 0.9081, 0.8907, 0.8907, 0.7484, 0.7283, 0.7209, 0.8522, 0.8521, 0.8521, 0.5551, 0.3626, 0.4976, 0.4154, 0.3455, 0.3253, 0.2631, -0.124, 0.3134, -0.3806, 0.0154, -0.2562, 0.5288, -0.0148, 0.6627, 1.4484, 1.4484, 1.4484, 1.4484, 1.2412, 1.2412, 1.2412, 1.2412, 1.2412, 1.2412, 1.2412, 1.2412, 1.2412, 1.2412, 1.2412, 1.2412, 1.2412, 1.2412, 1.2412, 1.2412, 1.2412, 1.2412, 1.2412, 1.2412, 1.2412, 1.2412, 1.2412, 1.2412, 1.2412, 1.2412, 1.1653, 1.1649, 1.1102, 0.962, 1.0921, 1.1384, 1.1375, 1.1374, 1.1278, 0.9512, 1.1242, 0.8986, 0.9307, 0.5837, 0.8703, 0.9588, 0.9361, 0.9248, 0.6981, 0.9009, 0.9004, 0.5047, 0.8785, 0.8785, 0.8785, 0.7298, 0.3079, 0.2901, -0.0326, -0.2945, 0.1645, 0.3024, 0.7006, 0.7006, 0.2949, 0.5331, 1.6028, 1.4613, 1.4613, 1.4613, 1.4613, 1.4613, 1.4613, 1.2536, 1.2536, 1.2536, 1.2536, 1.2536, 1.2536, 1.2536, 1.2536, 1.2536, 1.2536, 1.2536, 1.2536, 1.2536, 1.2536, 1.2536, 1.2536, 1.2536, 1.2536, 1.2536, 1.2536, 1.2536, 1.2536, 1.2536, 1.2536, 1.2536, 1.2536, 1.2536, 1.2536, 1.2536, 1.2536, 1.2536, 1.2536, 1.2536, 1.2536, 1.2536, 1.2536, 1.2536, 1.2536, 1.1106, 1.1224, 1.2536, 1.2536, 1.1364, 1.1359, 1.2536, 0.6636, 0.529, 0.6994, 0.8117, 0.7094, 0.9024, 0.9024, 0.8908, 0.7592, 0.7197, 0.3793, -0.1479, 0.5059, -0.0216, 0.1704, 0.1291, -0.0568, -0.0904, -0.1304, -0.1512, 1.8477, 1.7149, 1.7148, 1.618, 1.618, 1.618, 1.618, 1.618, 1.3978, 1.3978, 1.3978, 1.3978, 1.3978, 1.3978, 1.3978, 1.3978, 1.3978, 1.3978, 1.3978, 1.3978, 1.3978, 1.3978, 1.3978, 1.3978, 1.3978, 1.3978, 1.3978, 1.3978, 1.3978, 1.3978, 1.3978, 1.3978, 1.3978, 1.2951, 1.3224, 1.3219, 1.279, 0.9263, 0.8728, 1.0706, 1.0603, 1.0595, 1.0381, 0.4312, 0.7009, 0.176, 0.8813, 0.8702, 0.5367, 0.8626, 0.8621, 0.0984, 0.8162, 0.7114, 0.6795, 0.0712, -0.088, 0.2379], \"logprob\": [30.0, 29.0, 28.0, 27.0, 26.0, 25.0, 24.0, 23.0, 22.0, 21.0, 20.0, 19.0, 18.0, 17.0, 16.0, 15.0, 14.0, 13.0, 12.0, 11.0, 10.0, 9.0, 8.0, 7.0, 6.0, 5.0, 4.0, 3.0, 2.0, 1.0, -5.0937, -5.0937, -5.0937, -5.3656, -5.3656, -5.3656, -5.3656, -5.3656, -5.7403, -5.7403, -5.7403, -5.7403, -5.7403, -5.7403, -5.7403, -5.7403, -5.7403, -5.7403, -5.7403, -5.7403, -5.7403, -5.7403, -5.7403, -5.7403, -5.7403, -5.7403, -5.7403, -5.7403, -5.3649, -5.3654, -4.88, -5.0934, -4.1122, -4.8792, -4.3092, -4.4236, -4.5538, -4.8797, -5.3656, -4.879, -5.3655, -4.8804, -5.0936, -5.0938, -5.0938, -4.8794, -5.3653, -5.0934, -5.365, -5.3659, -4.881, -5.3652, -5.3653, -5.3654, -5.3654, -5.2164, -5.2164, -5.2164, -5.2164, -5.5911, -5.5911, -5.5911, -5.5911, -5.5911, -5.5911, -5.5911, -5.5911, -5.5911, -5.2162, -4.5531, -6.1972, -6.1972, -6.1972, -6.1972, -6.1972, -6.1972, -6.1972, -6.1972, -6.1972, -6.1972, -6.1972, -6.1972, -6.1972, -6.1972, -6.1972, -6.1972, -6.1972, -6.1972, -6.1972, -6.1972, -6.1972, -6.1972, -6.1972, -4.9437, -6.1972, -6.1972, -6.1972, -6.1972, -4.73, -6.1972, -4.7288, -4.5546, -5.2159, -4.5545, -5.591, -5.5909, -5.591, -4.5535, -4.9435, -4.9436, -5.5908, -5.5909, -5.591, -4.7302, -4.4051, -4.7306, -4.5543, -4.5544, -4.9442, -4.9436, -4.9433, -5.2163, -4.9459, -5.2159, -5.2184, -5.5903, -5.5904, -5.5904, -5.3703, -5.3703, -5.3703, -5.3703, -5.9764, -5.9764, -5.9764, -5.9764, -5.9764, -5.9764, -5.9764, -5.9764, -5.9764, -5.9764, -5.9764, -5.9764, -5.9764, -5.9764, -5.9764, -5.9764, -5.9764, -5.9764, -5.9764, -5.9764, -5.9764, -5.9764, -5.9764, -5.9764, -5.9764, -5.9764, -5.3697, -5.37, -4.995, -3.9379, -4.9952, -5.3693, -5.3701, -5.3703, -5.3801, -4.5096, -5.3695, -4.3328, -4.9949, -4.184, -4.995, -5.3697, -5.3701, -5.3699, -4.9952, -5.3699, -5.3703, -4.7234, -5.3702, -5.3702, -5.3702, -5.3694, -4.9939, -4.9953, -4.9948, -4.9967, -5.3694, -5.3695, -5.3696, -5.3696, -5.3696, -5.3701, -4.7125, -5.3591, -5.3591, -5.3591, -5.3591, -5.3591, -5.3591, -5.9652, -5.9652, -5.9652, -5.9652, -5.9652, -5.9652, -5.9652, -5.9652, -5.9652, -5.9652, -5.9652, -5.9652, -5.9652, -5.9652, -5.9652, -5.9652, -5.9652, -5.9652, -5.9652, -5.9652, -5.9652, -5.9652, -5.9652, -5.9652, -5.9652, -5.9652, -5.9652, -5.9652, -5.9652, -5.9652, -5.9652, -5.9652, -5.9652, -5.9652, -5.9652, -5.9652, -5.9652, -5.9652, -4.7119, -4.9837, -5.9652, -5.9652, -5.3585, -5.3589, -5.9652, -4.4984, -4.1733, -4.7118, -4.9832, -4.9839, -5.3583, -5.3583, -5.3589, -5.3584, -5.3592, -4.9846, -4.7131, -5.3594, -4.9838, -5.3593, -5.3591, -5.3587, -5.36, -5.3585, -5.358, -4.0648, -4.8757, -4.8759, -5.2504, -5.2504, -5.2504, -5.2504, -5.2504, -5.8566, -5.8566, -5.8566, -5.8566, -5.8566, -5.8566, -5.8566, -5.8566, -5.8566, -5.8566, -5.8566, -5.8566, -5.8566, -5.8566, -5.8566, -5.8566, -5.8566, -5.8566, -5.8566, -5.8566, -5.8566, -5.8566, -5.8566, -5.8566, -5.8566, -4.8748, -5.2498, -5.2496, -5.2503, -4.3969, -4.6038, -5.2502, -5.2494, -5.2502, -5.2498, -4.3881, -4.8747, -4.3893, -5.2481, -5.2503, -4.8746, -5.2489, -5.2489, -4.6039, -5.3029, -5.2497, -5.2505, -4.8986, -5.25, -5.2504]}, \"token.table\": {\"Topic\": [5, 1, 3, 4, 5, 1, 2, 2, 3, 3, 3, 3, 3, 4, 1, 4, 3, 1, 2, 2, 2, 5, 1, 2, 1, 2, 3, 5, 4, 1, 5, 1, 2, 3, 4, 1, 2, 3, 4, 4, 1, 2, 3, 4, 4, 1, 2, 4, 4, 1, 2, 5, 5, 5, 1, 4, 2, 1, 1, 2, 3, 5, 2, 2, 4, 2, 1, 3, 1, 2, 3, 4, 5, 1, 2, 5, 4, 4, 3, 4, 3, 4, 4, 1, 2, 4, 1, 2, 5, 2, 4, 4, 2, 3, 3, 2, 1, 3, 4, 5, 2, 2, 1, 2, 3, 4, 5, 4, 4, 5, 1, 3, 4, 3, 2, 2, 3, 1, 2, 3, 4, 4, 5, 1, 2, 5, 1, 1, 2, 4, 4, 5, 1, 3, 4, 5, 2, 3, 1, 2, 3, 5, 1, 1, 3, 4, 3, 3, 4, 2, 2, 3, 4, 1, 5, 2, 3, 5, 1, 2, 1, 2, 3, 4, 5, 3, 4, 1, 4, 1, 3, 3, 2, 1, 5, 1, 2, 3, 4, 5, 2, 1, 3, 5, 4, 1, 2, 4, 5, 5, 3, 5, 4, 5, 1, 3, 4, 5, 5, 1, 1, 2, 3, 1, 3, 2, 3, 1, 5, 2, 4, 1, 2, 2, 1, 2, 3, 4, 1, 3, 1, 2, 3, 4, 1, 2, 3, 1, 3, 4, 3, 2, 1, 2, 3, 1, 2, 3, 5, 1, 5, 1, 4, 4, 4, 1, 2, 3, 1, 3, 4, 5, 4, 5, 4, 1, 4, 5, 1, 2, 4, 5, 1, 3, 4, 5, 5, 1, 2, 4, 5, 1, 2, 3, 2, 3, 1, 1, 2, 5, 2, 2, 2, 1, 2, 3, 1, 1, 2, 3, 4, 5, 1, 2, 3, 4, 5, 1, 2, 3, 1, 3, 1, 2, 3, 4, 5, 2, 1, 2, 2, 3, 2, 1, 5, 1, 4, 5, 2, 3, 1, 3, 5, 1, 3, 4, 5, 4, 2, 1, 2, 4, 5, 1, 2, 3, 4, 5, 5, 3, 2, 3, 3, 1, 3, 1, 2, 1, 3, 1, 2, 3, 4, 2, 5, 1, 4, 5, 1, 2, 3, 5, 1, 4, 4, 1, 2, 3, 2, 3, 2, 1, 2, 3, 4, 2, 1, 2, 3, 4, 5, 1, 4, 2, 4, 5, 1, 3, 5, 4, 5, 4, 1, 2, 3, 5, 3, 1, 2, 3, 4, 4, 4, 4, 5, 1, 2, 4, 2, 3, 5, 3, 4, 5, 2, 4, 2, 1, 5, 2, 3, 4, 4, 2, 3, 5, 4, 2, 3, 5, 1, 2, 3, 4, 5, 4, 4, 2, 3, 5, 2, 2, 2, 3, 5, 1, 1, 2, 5, 1, 2, 4, 5, 3, 4, 1, 2, 2, 4, 4, 1, 1, 4, 5, 5, 5, 3, 4, 5, 1, 2, 4, 5, 3, 4, 5, 1, 2, 4, 5, 2, 3, 5], \"Freq\": [0.8123555260345777, 0.8390859373835038, 0.3218153438141807, 0.3218153438141807, 0.3218153438141807, 0.8390860294306453, 0.7314627982486266, 0.38509649386963857, 0.38509649386963857, 0.7829984167268395, 0.7829984324132907, 0.7829984324132907, 0.7829984167268395, 0.7840019610023473, 0.9464209143351274, 0.7840019610023473, 0.7829984324132907, 0.5651757228455113, 0.28258786142275566, 0.7432160627477794, 0.7432160627477794, 0.5522286731660027, 0.36089199432638014, 0.7217839886527603, 0.25893615728008645, 0.25893615728008645, 0.25893615728008645, 0.25893615728008645, 0.7840019610023473, 0.9464208347576044, 0.8123555260345777, 0.5816091678544819, 0.14540229196362048, 0.14540229196362048, 0.14540229196362048, 0.1656759306434105, 0.4970277919302315, 0.1656759306434105, 0.1656759306434105, 0.7840019610023473, 0.22679357253266907, 0.45358714506533815, 0.22679357253266907, 0.11339678626633454, 0.7840019610023473, 0.8390859043971638, 0.7314627052597699, 0.7840019610023473, 0.7840019610023473, 0.6374432921722326, 0.3187216460861163, 0.15936082304305815, 0.8123554710891906, 0.8492345584527584, 0.3801123930660502, 0.3801123930660502, 0.7432160627477794, 0.9464205633482268, 0.1669032683622983, 0.5007098050868949, 0.1669032683622983, 0.1669032683622983, 0.7432160627477794, 0.7432160627477794, 0.7840019610023473, 0.9804519140239637, 0.9464207820646666, 0.7829984324132907, 0.42694230783402803, 0.21347115391701402, 0.07115705130567133, 0.07115705130567133, 0.21347115391701402, 0.48560947116469916, 0.24280473558234958, 0.24280473558234958, 0.7840019610023473, 0.7840019610023473, 0.7829984167268395, 0.7840019610023473, 0.7829984324132907, 0.7840019610023473, 0.5263484368371294, 0.30074075811214424, 0.30074075811214424, 0.30074075811214424, 0.41555573857529376, 0.41555573857529376, 0.20777786928764688, 0.7432160627477794, 0.7840019610023473, 0.7840019610023473, 0.38498232183033043, 0.38498232183033043, 0.5254442279807043, 0.7432160627477794, 0.3410571201671356, 0.3410571201671356, 0.3410571201671356, 0.8123554710891906, 0.7432160627477794, 0.9804519246106268, 0.33082637630011014, 0.33082637630011014, 0.08270659407502753, 0.08270659407502753, 0.16541318815005507, 0.7840019610023473, 0.7840019610023473, 0.8123555260345777, 0.5015002638613282, 0.2507501319306641, 0.2507501319306641, 0.7829984324132907, 0.7432160627477794, 0.7502149581128499, 0.37510747905642494, 0.11528449818196446, 0.4611379927278578, 0.2305689963639289, 0.11528449818196446, 0.7840019610023473, 0.5522286502834506, 0.29844837106086536, 0.5968967421217307, 0.29844837106086536, 0.9464205633482268, 0.3007390642681744, 0.3007390642681744, 0.3007390642681744, 0.7840019610023473, 0.8123555260345777, 0.3796485285446424, 0.3796485285446424, 0.7840019610023473, 0.8123555260345777, 0.980451934903108, 0.7829984167268395, 0.2558800509123612, 0.2558800509123612, 0.2558800509123612, 0.2558800509123612, 0.9464206412238545, 0.25765832627961033, 0.25765832627961033, 0.5153166525592207, 0.7829984324132907, 0.39564355390148315, 0.39564355390148315, 0.98045192578915, 0.7432160627477794, 0.7829984324132907, 0.7840019610023473, 0.7031679377640773, 0.8123555260345777, 0.7432160627477794, 0.410378471418365, 0.410378471418365, 0.5651836643327189, 0.28259183216635947, 0.0771237137091812, 0.3084948548367248, 0.4627422822550872, 0.0771237137091812, 0.0771237137091812, 0.7829984324132907, 0.7840019610023473, 0.9464206677920922, 0.7840019610023473, 0.9464213518158053, 0.7829984324132907, 0.7829984167268395, 0.7432160627477794, 0.7031675836829508, 0.8123554710891906, 0.14958530785327787, 0.5983412314131115, 0.14958530785327787, 0.14958530785327787, 0.14958530785327787, 0.7432160627477794, 0.5943111375847777, 0.29715556879238886, 0.8123555260345777, 0.7840019610023473, 0.19403321119279682, 0.19403321119279682, 0.5820996335783905, 0.19403321119279682, 0.8123555260345777, 0.7829984167268395, 0.8123555260345777, 0.7840019610023473, 0.5522286186654407, 0.26372555889289734, 0.26372555889289734, 0.26372555889289734, 0.26372555889289734, 0.8123555260345777, 0.9464210499861488, 0.42070043628092807, 0.42070043628092807, 0.21035021814046403, 0.9464208273285881, 0.7829984324132907, 0.7432160627477794, 0.5254442264031439, 0.9464207722394878, 0.8365676298598316, 0.7432160627477794, 0.7840019610023473, 0.3608932706885593, 0.7217865413771186, 0.7432160627477794, 0.41761486223677347, 0.20880743111838673, 0.20880743111838673, 0.20880743111838673, 0.5943131297362741, 0.2971565648681371, 0.14708493502926268, 0.5883397401170507, 0.14708493502926268, 0.14708493502926268, 0.2485833058475176, 0.4971666116950352, 0.2485833058475176, 0.7031677595176031, 0.3956433346477176, 0.3956433346477176, 0.7829984324132907, 0.7314627488294119, 0.4054286011957706, 0.13514286706525688, 0.4054286011957706, 0.3533241925980117, 0.23554946173200778, 0.11777473086600389, 0.3533241925980117, 0.9464210760293315, 0.8365750693367926, 0.5948967892356518, 0.2974483946178259, 0.5263484626691033, 0.7840019610023473, 0.20896162807492144, 0.6268848842247644, 0.20896162807492144, 0.25744092867482643, 0.5148818573496529, 0.25744092867482643, 0.8123554710891906, 0.7840019610023473, 0.8123554710891906, 0.7840019610023473, 0.37752808039006175, 0.37752808039006175, 0.18876404019503087, 0.2572297653458352, 0.1286148826729176, 0.3858446480187528, 0.2572297653458352, 0.2606340894467474, 0.2606340894467474, 0.2606340894467474, 0.2606340894467474, 0.8123555260345777, 0.6129715905975845, 0.20432386353252818, 0.20432386353252818, 0.8123555260345777, 0.2485833058475176, 0.4971666116950352, 0.2485833058475176, 0.6075511455870916, 0.3037755727935458, 0.9464211149907669, 0.4118920426447215, 0.274594695096481, 0.274594695096481, 0.7432160627477794, 0.7432160627477794, 0.7432160627477794, 0.21511226401444844, 0.4302245280288969, 0.4302245280288969, 0.7031677888079285, 0.21487766039993983, 0.21487766039993983, 0.42975532079987966, 0.10743883019996991, 0.8123555260345777, 0.41040833670498156, 0.16416333468199262, 0.16416333468199262, 0.16416333468199262, 0.08208166734099631, 0.7031675836829508, 0.7314626297237241, 0.5254442325431958, 0.9464205836686985, 0.7829984324132907, 0.277808823969671, 0.1389044119848355, 0.1389044119848355, 0.1389044119848355, 0.1389044119848355, 0.7432160627477794, 0.28857743177395034, 0.5771548635479007, 0.6075630277532181, 0.30378151387660907, 0.7432160627477794, 0.39341254634868156, 0.39341254634868156, 0.31583103844023697, 0.31583103844023697, 0.31583103844023697, 0.3849853872935429, 0.3849853872935429, 0.31113446903017683, 0.31113446903017683, 0.31113446903017683, 0.4430671831187205, 0.12659062374820584, 0.2531812474964117, 0.12659062374820584, 0.5263484626691033, 0.9804521297654798, 0.43432835935235525, 0.28955223956823684, 0.14477611978411842, 0.8123555260345777, 0.4415244902404593, 0.16557168384017223, 0.055190561280057414, 0.16557168384017223, 0.16557168384017223, 0.8123555260345777, 0.7829984167268395, 0.7502168594046714, 0.3751084297023357, 0.7829984167268395, 0.5943111375847777, 0.29715556879238886, 0.9464211020866584, 0.9804519416096609, 0.9464211149907669, 0.7829984167268395, 0.4464847766142337, 0.33486358246067527, 0.11162119415355842, 0.11162119415355842, 0.7634329981953378, 0.3817164990976689, 0.3158625933926189, 0.3158625933926189, 0.3158625933926189, 0.1650104107634425, 0.66004164305377, 0.1650104107634425, 0.1650104107634425, 0.9464210760293315, 0.7840019610023473, 0.7840019610023473, 0.2528774251060735, 0.2528774251060735, 0.505754850212147, 0.7432160627477794, 0.7829984324132907, 0.7432160627477794, 0.214187613402415, 0.42837522680483, 0.3212814201036225, 0.1070938067012075, 0.9804519246106268, 0.22289123301266284, 0.22289123301266284, 0.22289123301266284, 0.22289123301266284, 0.22289123301266284, 0.38009885152692596, 0.38009885152692596, 0.980452095978274, 0.7840019610023473, 0.5522285350880161, 0.49381022195580904, 0.24690511097790452, 0.24690511097790452, 0.41065064915012933, 0.41065064915012933, 0.9527946838895349, 0.24655798678670113, 0.49311597357340226, 0.12327899339335056, 0.12327899339335056, 0.7829984324132907, 0.27031647037841555, 0.33789558797301944, 0.33789558797301944, 0.06757911759460389, 0.7840019610023473, 0.7840019610023473, 0.7840019610023473, 0.8123555260345777, 0.24532203947648235, 0.4906440789529647, 0.24532203947648235, 0.5227997352363991, 0.26139986761819956, 0.26139986761819956, 0.7829984324132907, 0.7840019610023473, 0.8123554710891906, 0.7432160627477794, 0.7840019610023473, 0.7432160627477794, 0.9464210351593374, 0.8123554710891906, 0.7432160627477794, 0.5254441664792165, 0.7840019610023473, 0.7840019610023473, 0.5220689054827322, 0.2610344527413661, 0.2610344527413661, 0.7840019610023473, 0.3147279459947989, 0.3147279459947989, 0.3147279459947989, 0.4192992590494116, 0.31447444428705873, 0.1048248147623529, 0.1048248147623529, 0.1048248147623529, 0.7840019610023473, 0.7840019610023473, 0.31936621162438183, 0.31936621162438183, 0.31936621162438183, 0.7432160627477794, 0.9804519055245525, 0.3850034245876513, 0.3850034245876513, 0.8123555260345777, 0.9464207482148587, 0.309020556367214, 0.309020556367214, 0.309020556367214, 0.2590410415634305, 0.2590410415634305, 0.2590410415634305, 0.2590410415634305, 0.7829984324132907, 0.5263484506736239, 0.36089139068534587, 0.7217827813706917, 0.7432160627477794, 0.5263484626691033, 0.5263484049078818, 0.9464206195440531, 0.43210636553813647, 0.21605318276906824, 0.21605318276906824, 0.5522285862337782, 0.8123555260345777, 0.27465333142841974, 0.27465333142841974, 0.5493066628568395, 0.30316723906349097, 0.30316723906349097, 0.15158361953174548, 0.30316723906349097, 0.4050491807203615, 0.20252459036018075, 0.20252459036018075, 0.4009480864959821, 0.20047404324799106, 0.3007110648719866, 0.10023702162399553, 0.5075857222800767, 0.25379286114003835, 0.25379286114003835], \"Term\": [\"2003\", \"able\", \"achieve\", \"achieve\", \"achieve\", \"action\", \"advance\", \"advice\", \"advice\", \"alleviation\", \"analysis\", \"analytics\", \"anchored\", \"april\", \"areas\", \"arms\", \"assessing\", \"assist\", \"assist\", \"associates\", \"attract\", \"barriers\", \"believe\", \"believe\", \"better\", \"better\", \"better\", \"better\", \"booklet\", \"bring\", \"broken\", \"build\", \"build\", \"build\", \"build\", \"building\", \"building\", \"building\", \"building\", \"called\", \"capacity\", \"capacity\", \"capacity\", \"capacity\", \"capture\", \"catholic\", \"challenges\", \"chama\", \"chamas\", \"change\", \"change\", \"change\", \"child\", \"children\", \"churches\", \"churches\", \"circumstances\", \"civil\", \"clients\", \"clients\", \"clients\", \"clients\", \"coaches\", \"coaching\", \"coat\", \"collaborative\", \"collective\", \"commercial\", \"communities\", \"communities\", \"communities\", \"communities\", \"communities\", \"community\", \"community\", \"community\", \"comprehensive\", \"concepts\", \"conduct\", \"connotation\", \"consulting\", \"continent\", \"control\", \"country\", \"country\", \"country\", \"create\", \"create\", \"create\", \"creative\", \"cultural\", \"culture\", \"decision\", \"decision\", \"deliver\", \"demands\", \"des\", \"des\", \"des\", \"deserves\", \"designed\", \"developing\", \"development\", \"development\", \"development\", \"development\", \"development\", \"differ\", \"differences\", \"differently\", \"dignity\", \"dignity\", \"dignity\", \"disputes\", \"disruptive\", \"driven\", \"driven\", \"economic\", \"economic\", \"economic\", \"economic\", \"ecosystems\", \"ecoventures\", \"empower\", \"empower\", \"empower\", \"empowered\", \"en\", \"en\", \"en\", \"encyclopedic\", \"energy\", \"enhance\", \"enhance\", \"enshrined\", \"entrepreneurs\", \"environment\", \"equity\", \"especially\", \"especially\", \"especially\", \"especially\", \"essential\", \"et\", \"et\", \"et\", \"evaluating\", \"evidence\", \"evidence\", \"excellence\", \"experienced\", \"experts\", \"exploring\", \"extreme\", \"face\", \"facilitators\", \"families\", \"families\", \"finance\", \"finance\", \"financial\", \"financial\", \"financial\", \"financial\", \"financial\", \"financing\", \"findings\", \"forces\", \"form\", \"foundation\", \"frameworks\", \"gender\", \"generate\", \"geopoll\", \"gives\", \"global\", \"global\", \"global\", \"global\", \"global\", \"good\", \"government\", \"government\", \"grassroots\", \"group\", \"groups\", \"groups\", \"groups\", \"groups\", \"grow\", \"guide\", \"hand\", \"harambee\", \"healthy\", \"help\", \"help\", \"help\", \"help\", \"helped\", \"hope\", \"human\", \"human\", \"human\", \"humanity\", \"hurdles\", \"hustle\", \"icrw\", \"ide\", \"ideas\", \"identify\", \"illustrated\", \"impact\", \"impact\", \"implement\", \"improve\", \"improve\", \"improve\", \"improve\", \"inclusion\", \"inclusion\", \"inclusive\", \"inclusive\", \"inclusive\", \"inclusive\", \"income\", \"income\", \"income\", \"independent\", \"industry\", \"industry\", \"infrastructure\", \"innovative\", \"institutions\", \"institutions\", \"institutions\", \"international\", \"international\", \"international\", \"international\", \"ipsos\", \"jobs\", \"just\", \"just\", \"kenya\", \"kenyan\", \"knowledge\", \"knowledge\", \"knowledge\", \"la\", \"la\", \"la\", \"large\", \"launched\", \"learn\", \"link\", \"livelihoods\", \"livelihoods\", \"livelihoods\", \"lives\", \"lives\", \"lives\", \"lives\", \"living\", \"living\", \"living\", \"living\", \"ll\", \"local\", \"local\", \"local\", \"look\", \"low\", \"low\", \"low\", \"making\", \"making\", \"manner\", \"market\", \"market\", \"market\", \"marketshare\", \"measurement\", \"meet\", \"members\", \"members\", \"members\", \"micro\", \"microfinance\", \"microfinance\", \"microfinance\", \"microfinance\", \"millions\", \"mission\", \"mission\", \"mission\", \"mission\", \"mission\", \"mobile\", \"msa\", \"nathan\", \"national\", \"navigating\", \"needs\", \"needs\", \"needs\", \"needs\", \"needs\", \"nerds\", \"new\", \"new\", \"offering\", \"offering\", \"offers\", \"organization\", \"organization\", \"organizations\", \"organizations\", \"organizations\", \"outreach\", \"outreach\", \"partners\", \"partners\", \"partners\", \"people\", \"people\", \"people\", \"people\", \"phenomenon\", \"philippines\", \"poor\", \"poor\", \"poor\", \"potential\", \"poverty\", \"poverty\", \"poverty\", \"poverty\", \"poverty\", \"povertyhand\", \"practices\", \"practitioners\", \"practitioners\", \"principle\", \"private\", \"private\", \"productive\", \"products\", \"professionally\", \"profit\", \"promote\", \"promote\", \"promote\", \"promote\", \"protect\", \"protect\", \"provide\", \"provide\", \"provide\", \"providing\", \"providing\", \"providing\", \"providing\", \"public\", \"publication\", \"pull\", \"quality\", \"quality\", \"quality\", \"quest\", \"regulatory\", \"relevant\", \"research\", \"research\", \"research\", \"research\", \"researchers\", \"resources\", \"resources\", \"resources\", \"resources\", \"resources\", \"respond\", \"respond\", \"responsible\", \"resulting\", \"right\", \"rural\", \"rural\", \"rural\", \"save\", \"save\", \"savings\", \"sector\", \"sector\", \"sector\", \"sector\", \"securing\", \"services\", \"services\", \"services\", \"services\", \"sg4africa\", \"sgs\", \"similarities\", \"skills\", \"social\", \"social\", \"social\", \"solutions\", \"solutions\", \"solutions\", \"sound\", \"south\", \"start\", \"stay\", \"stokvel\", \"strategic\", \"strengthen\", \"strikes\", \"strive\", \"striving\", \"strong\", \"substantially\", \"support\", \"support\", \"support\", \"surrounding\", \"sustainability\", \"sustainability\", \"sustainability\", \"sustainable\", \"sustainable\", \"sustainable\", \"sustainable\", \"sustainable\", \"susu\", \"swahili\", \"systems\", \"systems\", \"systems\", \"tailor\", \"talent\", \"technical\", \"technical\", \"times\", \"traditional\", \"training\", \"training\", \"training\", \"transform\", \"transform\", \"transform\", \"transform\", \"trusted\", \"tr\\u00f3caire\", \"understand\", \"understand\", \"value\", \"vary\", \"vibrant\", \"volunteering\", \"vulnerable\", \"vulnerable\", \"vulnerable\", \"water\", \"win\", \"women\", \"women\", \"women\", \"work\", \"work\", \"work\", \"work\", \"works\", \"works\", \"works\", \"world\", \"world\", \"world\", \"world\", \"youth\", \"youth\", \"youth\"]}, \"R\": 30, \"lambda.step\": 0.01, \"plot.opts\": {\"xlab\": \"PC1\", \"ylab\": \"PC2\"}, \"topic.order\": [3, 2, 4, 5, 1]};\n",
       "\n",
       "function LDAvis_load_lib(url, callback){\n",
       "  var s = document.createElement('script');\n",
       "  s.src = url;\n",
       "  s.async = true;\n",
       "  s.onreadystatechange = s.onload = callback;\n",
       "  s.onerror = function(){console.warn(\"failed to load library \" + url);};\n",
       "  document.getElementsByTagName(\"head\")[0].appendChild(s);\n",
       "}\n",
       "\n",
       "if(typeof(LDAvis) !== \"undefined\"){\n",
       "   // already loaded: just create the visualization\n",
       "   !function(LDAvis){\n",
       "       new LDAvis(\"#\" + \"ldavis_el452721403344884918405661289274\", ldavis_el452721403344884918405661289274_data);\n",
       "   }(LDAvis);\n",
       "}else if(typeof define === \"function\" && define.amd){\n",
       "   // require.js is available: use it to load d3/LDAvis\n",
       "   require.config({paths: {d3: \"https://cdnjs.cloudflare.com/ajax/libs/d3/3.5.5/d3.min\"}});\n",
       "   require([\"d3\"], function(d3){\n",
       "      window.d3 = d3;\n",
       "      LDAvis_load_lib(\"https://cdn.rawgit.com/bmabey/pyLDAvis/files/ldavis.v1.0.0.js\", function(){\n",
       "        new LDAvis(\"#\" + \"ldavis_el452721403344884918405661289274\", ldavis_el452721403344884918405661289274_data);\n",
       "      });\n",
       "    });\n",
       "}else{\n",
       "    // require.js not available: dynamically load d3 & LDAvis\n",
       "    LDAvis_load_lib(\"https://cdnjs.cloudflare.com/ajax/libs/d3/3.5.5/d3.min.js\", function(){\n",
       "         LDAvis_load_lib(\"https://cdn.rawgit.com/bmabey/pyLDAvis/files/ldavis.v1.0.0.js\", function(){\n",
       "                 new LDAvis(\"#\" + \"ldavis_el452721403344884918405661289274\", ldavis_el452721403344884918405661289274_data);\n",
       "            })\n",
       "         });\n",
       "}\n",
       "</script>"
      ],
      "text/plain": [
       "<IPython.core.display.HTML object>"
      ]
     },
     "execution_count": 26,
     "metadata": {},
     "output_type": "execute_result"
    }
   ],
   "source": [
    "pyLDAvis.enable_notebook()\n",
    "pyLDAvis.display(LDAvis_prepared)"
   ]
  }
 ],
 "metadata": {
  "kernelspec": {
   "display_name": "Python 3",
   "language": "python",
   "name": "python3"
  },
  "language_info": {
   "codemirror_mode": {
    "name": "ipython",
    "version": 3
   },
   "file_extension": ".py",
   "mimetype": "text/x-python",
   "name": "python",
   "nbconvert_exporter": "python",
   "pygments_lexer": "ipython3",
   "version": "3.8.5"
  },
  "toc": {
   "base_numbering": 1,
   "nav_menu": {},
   "number_sections": true,
   "sideBar": true,
   "skip_h1_title": true,
   "title_cell": "Table of Contents",
   "title_sidebar": "Contents",
   "toc_cell": false,
   "toc_position": {
    "height": "calc(100% - 180px)",
    "left": "10px",
    "top": "150px",
    "width": "288px"
   },
   "toc_section_display": true,
   "toc_window_display": true
  }
 },
 "nbformat": 4,
 "nbformat_minor": 4
}
